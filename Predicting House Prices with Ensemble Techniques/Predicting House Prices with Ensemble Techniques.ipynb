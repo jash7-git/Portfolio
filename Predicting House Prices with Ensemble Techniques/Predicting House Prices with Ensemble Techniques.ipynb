{
 "cells": [
  {
   "cell_type": "markdown",
   "metadata": {},
   "source": [
    "### <span style = 'color:green'> Build a machine learning algorithm to predict the house prices by using ensemble techniques.   </span>\n",
    "\n",
    "#### About the dataset\n",
    "\n",
    "Here's a brief version of what you'll find in the data description file.\n",
    "\n",
    "- SalePrice - the property's sale price in dollars. This is the target variable that you're trying to predict.\n",
    "- MSSubClass: The building class\n",
    "- MSZoning: The general zoning classification\n",
    "- LotFrontage: Linear feet of street connected to property\n",
    "- LotArea: Lot size in square feet\n",
    "- Street: Type of road access\n",
    "- Alley: Type of alley access\n",
    "- LotShape: General shape of property\n",
    "- LandContour: Flatness of the property\n",
    "- Utilities: Type of utilities available\n",
    "- LotConfig: Lot configuration\n",
    "- LandSlope: Slope of property\n",
    "- Neighborhood: Physical locations within Ames city limits\n",
    "- Condition1: Proximity to main road or railroad\n",
    "- Condition2: Proximity to main road or railroad (if a second is present)\n",
    "- BldgType: Type of dwelling\n",
    "- HouseStyle: Style of dwelling\n",
    "- OverallQual: Overall material and finish quality\n",
    "- OverallCond: Overall condition rating\n",
    "- YearBuilt: Original construction date\n",
    "- YearRemodAdd: Remodel date\n",
    "- RoofStyle: Type of roof\n",
    "- RoofMatl: Roof material\n",
    "- Exterior1st: Exterior covering on house\n",
    "- Exterior2nd: Exterior covering on house (if more than one material)\n",
    "- MasVnrType: Masonry veneer type\n",
    "- MasVnrArea: Masonry veneer area in square feet\n",
    "- ExterQual: Exterior material quality\n",
    "- ExterCond: Present condition of the material on the exterior\n",
    "- Foundation: Type of foundation\n",
    "- BsmtQual: Height of the basement\n",
    "- BsmtCond: General condition of the basement\n",
    "- BsmtExposure: Walkout or garden level basement walls\n",
    "- BsmtFinType1: Quality of basement finished area\n",
    "- BsmtFinSF1: Type 1 finished square feet\n",
    "- BsmtFinType2: Quality of second finished area (if present)\n",
    "- BsmtFinSF2: Type 2 finished square feet\n",
    "- BsmtUnfSF: Unfinished square feet of basement area\n",
    "- TotalBsmtSF: Total square feet of basement area\n",
    "- Heating: Type of heating\n",
    "- HeatingQC: Heating quality and condition\n",
    "- CentralAir: Central air conditioning\n",
    "- Electrical: Electrical system\n",
    "- 1stFlrSF: First Floor square feet\n",
    "- 2ndFlrSF: Second floor square feet\n",
    "- LowQualFinSF: Low quality finished square feet (all floors)\n",
    "- GrLivArea: Above grade (ground) living area square feet\n",
    "- BsmtFullBath: Basement full bathrooms\n",
    "- BsmtHalfBath: Basement half bathrooms\n",
    "- FullBath: Full bathrooms above grade\n",
    "- HalfBath: Half baths above grade\n",
    "- Bedroom: Number of bedrooms above basement level\n",
    "- Kitchen: Number of kitchens\n",
    "- KitchenQual: Kitchen quality\n",
    "- TotRmsAbvGrd: Total rooms above grade (does not include bathrooms)\n",
    "- Functional: Home functionality rating\n",
    "- Fireplaces: Number of fireplaces\n",
    "- FireplaceQu: Fireplace quality\n",
    "- GarageType: Garage location\n",
    "- GarageYrBlt: Year garage was built\n",
    "- GarageFinish: Interior finish of the garage\n",
    "- GarageCars: Size of garage in car capacity\n",
    "- GarageArea: Size of garage in square feet\n",
    "- GarageQual: Garage quality\n",
    "- GarageCond: Garage condition\n",
    "- PavedDrive: Paved driveway\n",
    "- WoodDeckSF: Wood deck area in square feet\n",
    "- OpenPorchSF: Open porch area in square feet\n",
    "- EnclosedPorch: Enclosed porch area in square feet\n",
    "- 3SsnPorch: Three season porch area in square feet\n",
    "- ScreenPorch: Screen porch area in square feet\n",
    "- PoolArea: Pool area in square feet\n",
    "- PoolQC: Pool quality\n",
    "- Fence: Fence quality\n",
    "- MiscFeature: Miscellaneous feature not covered in other categories\n",
    "- MiscVal: $Value of miscellaneous feature\n",
    "- MoSold: Month Sold\n",
    "- YrSold: Year Sold\n",
    "- SaleType: Type of sale\n",
    "- SaleCondition: Condition of sale\n",
    "\n",
    "\n",
    "- **File descriptions**\n",
    "- train.csv - the training set\n",
    "- test.csv - the test set\n",
    "- data_description.txt - full description of each column, originally prepared by Dean De Cock but lightly edited to match the column names used here\n",
    "\n",
    "**Ensemble Techniques**\n",
    "\n",
    "- Bagging - Building multiple models (typically of the same type) from different subsamples of the training dataset.\n",
    "- Boosting - Building multiple models (typically of the same type) each of which learns to fix the prediction errors of a prior model in the chain.\n",
    "- Voting - Building multiple models (typically of differing types) and simple statistics (like calculating the mean) are used to combine predictions.\n",
    "\n",
    "\n",
    "\n",
    "\n",
    "* Build Various ***ML Models*** with the view of ***increasing accuracy*** of the Model. \n",
    "\n",
    "\n",
    "1. Dicision trees regression\n",
    "\n",
    "2. random forest regression \n",
    "\n",
    "3. ADA boost\n",
    "\n",
    "4. Gradient Boosting with XGBoost\n",
    "\n",
    "\n",
    "\n",
    "\n",
    "### To download the dataset <a href = 'https://drive.google.com/file/d/1rknDE31orIy3R214mzd4Wcrlbyw7LS2O/view?usp=sharing' title = 'Google Drive'> Click Here"
   ]
  },
  {
   "cell_type": "code",
   "execution_count": 1,
   "metadata": {},
   "outputs": [],
   "source": [
    "import pandas as pd\n",
    "import numpy as np\n",
    "import seaborn as sns\n",
    "import matplotlib.pyplot as plt"
   ]
  },
  {
   "cell_type": "code",
   "execution_count": 2,
   "metadata": {
    "scrolled": true
   },
   "outputs": [],
   "source": [
    "# loading data \n",
    "df_train = pd.read_csv('train (1).csv')\n",
    "df_test = pd.read_csv('test.csv')"
   ]
  },
  {
   "cell_type": "code",
   "execution_count": 3,
   "metadata": {
    "scrolled": true
   },
   "outputs": [
    {
     "data": {
      "text/html": [
       "<div>\n",
       "<style scoped>\n",
       "    .dataframe tbody tr th:only-of-type {\n",
       "        vertical-align: middle;\n",
       "    }\n",
       "\n",
       "    .dataframe tbody tr th {\n",
       "        vertical-align: top;\n",
       "    }\n",
       "\n",
       "    .dataframe thead th {\n",
       "        text-align: right;\n",
       "    }\n",
       "</style>\n",
       "<table border=\"1\" class=\"dataframe\">\n",
       "  <thead>\n",
       "    <tr style=\"text-align: right;\">\n",
       "      <th></th>\n",
       "      <th>Id</th>\n",
       "      <th>MSSubClass</th>\n",
       "      <th>MSZoning</th>\n",
       "      <th>LotFrontage</th>\n",
       "      <th>LotArea</th>\n",
       "      <th>Street</th>\n",
       "      <th>Alley</th>\n",
       "      <th>LotShape</th>\n",
       "      <th>LandContour</th>\n",
       "      <th>Utilities</th>\n",
       "      <th>...</th>\n",
       "      <th>PoolArea</th>\n",
       "      <th>PoolQC</th>\n",
       "      <th>Fence</th>\n",
       "      <th>MiscFeature</th>\n",
       "      <th>MiscVal</th>\n",
       "      <th>MoSold</th>\n",
       "      <th>YrSold</th>\n",
       "      <th>SaleType</th>\n",
       "      <th>SaleCondition</th>\n",
       "      <th>SalePrice</th>\n",
       "    </tr>\n",
       "  </thead>\n",
       "  <tbody>\n",
       "    <tr>\n",
       "      <th>0</th>\n",
       "      <td>1</td>\n",
       "      <td>60</td>\n",
       "      <td>RL</td>\n",
       "      <td>65.0</td>\n",
       "      <td>8450</td>\n",
       "      <td>Pave</td>\n",
       "      <td>NaN</td>\n",
       "      <td>Reg</td>\n",
       "      <td>Lvl</td>\n",
       "      <td>AllPub</td>\n",
       "      <td>...</td>\n",
       "      <td>0</td>\n",
       "      <td>NaN</td>\n",
       "      <td>NaN</td>\n",
       "      <td>NaN</td>\n",
       "      <td>0</td>\n",
       "      <td>2</td>\n",
       "      <td>2008</td>\n",
       "      <td>WD</td>\n",
       "      <td>Normal</td>\n",
       "      <td>208500</td>\n",
       "    </tr>\n",
       "    <tr>\n",
       "      <th>1</th>\n",
       "      <td>2</td>\n",
       "      <td>20</td>\n",
       "      <td>RL</td>\n",
       "      <td>80.0</td>\n",
       "      <td>9600</td>\n",
       "      <td>Pave</td>\n",
       "      <td>NaN</td>\n",
       "      <td>Reg</td>\n",
       "      <td>Lvl</td>\n",
       "      <td>AllPub</td>\n",
       "      <td>...</td>\n",
       "      <td>0</td>\n",
       "      <td>NaN</td>\n",
       "      <td>NaN</td>\n",
       "      <td>NaN</td>\n",
       "      <td>0</td>\n",
       "      <td>5</td>\n",
       "      <td>2007</td>\n",
       "      <td>WD</td>\n",
       "      <td>Normal</td>\n",
       "      <td>181500</td>\n",
       "    </tr>\n",
       "    <tr>\n",
       "      <th>2</th>\n",
       "      <td>3</td>\n",
       "      <td>60</td>\n",
       "      <td>RL</td>\n",
       "      <td>68.0</td>\n",
       "      <td>11250</td>\n",
       "      <td>Pave</td>\n",
       "      <td>NaN</td>\n",
       "      <td>IR1</td>\n",
       "      <td>Lvl</td>\n",
       "      <td>AllPub</td>\n",
       "      <td>...</td>\n",
       "      <td>0</td>\n",
       "      <td>NaN</td>\n",
       "      <td>NaN</td>\n",
       "      <td>NaN</td>\n",
       "      <td>0</td>\n",
       "      <td>9</td>\n",
       "      <td>2008</td>\n",
       "      <td>WD</td>\n",
       "      <td>Normal</td>\n",
       "      <td>223500</td>\n",
       "    </tr>\n",
       "    <tr>\n",
       "      <th>3</th>\n",
       "      <td>4</td>\n",
       "      <td>70</td>\n",
       "      <td>RL</td>\n",
       "      <td>60.0</td>\n",
       "      <td>9550</td>\n",
       "      <td>Pave</td>\n",
       "      <td>NaN</td>\n",
       "      <td>IR1</td>\n",
       "      <td>Lvl</td>\n",
       "      <td>AllPub</td>\n",
       "      <td>...</td>\n",
       "      <td>0</td>\n",
       "      <td>NaN</td>\n",
       "      <td>NaN</td>\n",
       "      <td>NaN</td>\n",
       "      <td>0</td>\n",
       "      <td>2</td>\n",
       "      <td>2006</td>\n",
       "      <td>WD</td>\n",
       "      <td>Abnorml</td>\n",
       "      <td>140000</td>\n",
       "    </tr>\n",
       "    <tr>\n",
       "      <th>4</th>\n",
       "      <td>5</td>\n",
       "      <td>60</td>\n",
       "      <td>RL</td>\n",
       "      <td>84.0</td>\n",
       "      <td>14260</td>\n",
       "      <td>Pave</td>\n",
       "      <td>NaN</td>\n",
       "      <td>IR1</td>\n",
       "      <td>Lvl</td>\n",
       "      <td>AllPub</td>\n",
       "      <td>...</td>\n",
       "      <td>0</td>\n",
       "      <td>NaN</td>\n",
       "      <td>NaN</td>\n",
       "      <td>NaN</td>\n",
       "      <td>0</td>\n",
       "      <td>12</td>\n",
       "      <td>2008</td>\n",
       "      <td>WD</td>\n",
       "      <td>Normal</td>\n",
       "      <td>250000</td>\n",
       "    </tr>\n",
       "  </tbody>\n",
       "</table>\n",
       "<p>5 rows × 81 columns</p>\n",
       "</div>"
      ],
      "text/plain": [
       "   Id  MSSubClass MSZoning  LotFrontage  LotArea Street Alley LotShape  \\\n",
       "0   1          60       RL         65.0     8450   Pave   NaN      Reg   \n",
       "1   2          20       RL         80.0     9600   Pave   NaN      Reg   \n",
       "2   3          60       RL         68.0    11250   Pave   NaN      IR1   \n",
       "3   4          70       RL         60.0     9550   Pave   NaN      IR1   \n",
       "4   5          60       RL         84.0    14260   Pave   NaN      IR1   \n",
       "\n",
       "  LandContour Utilities  ... PoolArea PoolQC Fence MiscFeature MiscVal MoSold  \\\n",
       "0         Lvl    AllPub  ...        0    NaN   NaN         NaN       0      2   \n",
       "1         Lvl    AllPub  ...        0    NaN   NaN         NaN       0      5   \n",
       "2         Lvl    AllPub  ...        0    NaN   NaN         NaN       0      9   \n",
       "3         Lvl    AllPub  ...        0    NaN   NaN         NaN       0      2   \n",
       "4         Lvl    AllPub  ...        0    NaN   NaN         NaN       0     12   \n",
       "\n",
       "  YrSold  SaleType  SaleCondition  SalePrice  \n",
       "0   2008        WD         Normal     208500  \n",
       "1   2007        WD         Normal     181500  \n",
       "2   2008        WD         Normal     223500  \n",
       "3   2006        WD        Abnorml     140000  \n",
       "4   2008        WD         Normal     250000  \n",
       "\n",
       "[5 rows x 81 columns]"
      ]
     },
     "execution_count": 3,
     "metadata": {},
     "output_type": "execute_result"
    }
   ],
   "source": [
    "df_train.head()"
   ]
  },
  {
   "cell_type": "code",
   "execution_count": 4,
   "metadata": {},
   "outputs": [
    {
     "data": {
      "text/plain": [
       "(1460, 81)"
      ]
     },
     "execution_count": 4,
     "metadata": {},
     "output_type": "execute_result"
    }
   ],
   "source": [
    "df_train.shape"
   ]
  },
  {
   "cell_type": "code",
   "execution_count": 5,
   "metadata": {
    "scrolled": true
   },
   "outputs": [
    {
     "data": {
      "text/plain": [
       "Index(['Id', 'MSSubClass', 'MSZoning', 'LotFrontage', 'LotArea', 'Street',\n",
       "       'Alley', 'LotShape', 'LandContour', 'Utilities', 'LotConfig',\n",
       "       'LandSlope', 'Neighborhood', 'Condition1', 'Condition2', 'BldgType',\n",
       "       'HouseStyle', 'OverallQual', 'OverallCond', 'YearBuilt', 'YearRemodAdd',\n",
       "       'RoofStyle', 'RoofMatl', 'Exterior1st', 'Exterior2nd', 'MasVnrType',\n",
       "       'MasVnrArea', 'ExterQual', 'ExterCond', 'Foundation', 'BsmtQual',\n",
       "       'BsmtCond', 'BsmtExposure', 'BsmtFinType1', 'BsmtFinSF1',\n",
       "       'BsmtFinType2', 'BsmtFinSF2', 'BsmtUnfSF', 'TotalBsmtSF', 'Heating',\n",
       "       'HeatingQC', 'CentralAir', 'Electrical', '1stFlrSF', '2ndFlrSF',\n",
       "       'LowQualFinSF', 'GrLivArea', 'BsmtFullBath', 'BsmtHalfBath', 'FullBath',\n",
       "       'HalfBath', 'BedroomAbvGr', 'KitchenAbvGr', 'KitchenQual',\n",
       "       'TotRmsAbvGrd', 'Functional', 'Fireplaces', 'FireplaceQu', 'GarageType',\n",
       "       'GarageYrBlt', 'GarageFinish', 'GarageCars', 'GarageArea', 'GarageQual',\n",
       "       'GarageCond', 'PavedDrive', 'WoodDeckSF', 'OpenPorchSF',\n",
       "       'EnclosedPorch', '3SsnPorch', 'ScreenPorch', 'PoolArea', 'PoolQC',\n",
       "       'Fence', 'MiscFeature', 'MiscVal', 'MoSold', 'YrSold', 'SaleType',\n",
       "       'SaleCondition', 'SalePrice'],\n",
       "      dtype='object')"
      ]
     },
     "execution_count": 5,
     "metadata": {},
     "output_type": "execute_result"
    }
   ],
   "source": [
    "df_train.columns"
   ]
  },
  {
   "cell_type": "code",
   "execution_count": 6,
   "metadata": {
    "scrolled": false
   },
   "outputs": [
    {
     "name": "stdout",
     "output_type": "stream",
     "text": [
      "<class 'pandas.core.frame.DataFrame'>\n",
      "RangeIndex: 1460 entries, 0 to 1459\n",
      "Data columns (total 81 columns):\n",
      " #   Column         Non-Null Count  Dtype  \n",
      "---  ------         --------------  -----  \n",
      " 0   Id             1460 non-null   int64  \n",
      " 1   MSSubClass     1460 non-null   int64  \n",
      " 2   MSZoning       1460 non-null   object \n",
      " 3   LotFrontage    1201 non-null   float64\n",
      " 4   LotArea        1460 non-null   int64  \n",
      " 5   Street         1460 non-null   object \n",
      " 6   Alley          91 non-null     object \n",
      " 7   LotShape       1460 non-null   object \n",
      " 8   LandContour    1460 non-null   object \n",
      " 9   Utilities      1460 non-null   object \n",
      " 10  LotConfig      1460 non-null   object \n",
      " 11  LandSlope      1460 non-null   object \n",
      " 12  Neighborhood   1460 non-null   object \n",
      " 13  Condition1     1460 non-null   object \n",
      " 14  Condition2     1460 non-null   object \n",
      " 15  BldgType       1460 non-null   object \n",
      " 16  HouseStyle     1460 non-null   object \n",
      " 17  OverallQual    1460 non-null   int64  \n",
      " 18  OverallCond    1460 non-null   int64  \n",
      " 19  YearBuilt      1460 non-null   int64  \n",
      " 20  YearRemodAdd   1460 non-null   int64  \n",
      " 21  RoofStyle      1460 non-null   object \n",
      " 22  RoofMatl       1460 non-null   object \n",
      " 23  Exterior1st    1460 non-null   object \n",
      " 24  Exterior2nd    1460 non-null   object \n",
      " 25  MasVnrType     1452 non-null   object \n",
      " 26  MasVnrArea     1452 non-null   float64\n",
      " 27  ExterQual      1460 non-null   object \n",
      " 28  ExterCond      1460 non-null   object \n",
      " 29  Foundation     1460 non-null   object \n",
      " 30  BsmtQual       1423 non-null   object \n",
      " 31  BsmtCond       1423 non-null   object \n",
      " 32  BsmtExposure   1422 non-null   object \n",
      " 33  BsmtFinType1   1423 non-null   object \n",
      " 34  BsmtFinSF1     1460 non-null   int64  \n",
      " 35  BsmtFinType2   1422 non-null   object \n",
      " 36  BsmtFinSF2     1460 non-null   int64  \n",
      " 37  BsmtUnfSF      1460 non-null   int64  \n",
      " 38  TotalBsmtSF    1460 non-null   int64  \n",
      " 39  Heating        1460 non-null   object \n",
      " 40  HeatingQC      1460 non-null   object \n",
      " 41  CentralAir     1460 non-null   object \n",
      " 42  Electrical     1459 non-null   object \n",
      " 43  1stFlrSF       1460 non-null   int64  \n",
      " 44  2ndFlrSF       1460 non-null   int64  \n",
      " 45  LowQualFinSF   1460 non-null   int64  \n",
      " 46  GrLivArea      1460 non-null   int64  \n",
      " 47  BsmtFullBath   1460 non-null   int64  \n",
      " 48  BsmtHalfBath   1460 non-null   int64  \n",
      " 49  FullBath       1460 non-null   int64  \n",
      " 50  HalfBath       1460 non-null   int64  \n",
      " 51  BedroomAbvGr   1460 non-null   int64  \n",
      " 52  KitchenAbvGr   1460 non-null   int64  \n",
      " 53  KitchenQual    1460 non-null   object \n",
      " 54  TotRmsAbvGrd   1460 non-null   int64  \n",
      " 55  Functional     1460 non-null   object \n",
      " 56  Fireplaces     1460 non-null   int64  \n",
      " 57  FireplaceQu    770 non-null    object \n",
      " 58  GarageType     1379 non-null   object \n",
      " 59  GarageYrBlt    1379 non-null   float64\n",
      " 60  GarageFinish   1379 non-null   object \n",
      " 61  GarageCars     1460 non-null   int64  \n",
      " 62  GarageArea     1460 non-null   int64  \n",
      " 63  GarageQual     1379 non-null   object \n",
      " 64  GarageCond     1379 non-null   object \n",
      " 65  PavedDrive     1460 non-null   object \n",
      " 66  WoodDeckSF     1460 non-null   int64  \n",
      " 67  OpenPorchSF    1460 non-null   int64  \n",
      " 68  EnclosedPorch  1460 non-null   int64  \n",
      " 69  3SsnPorch      1460 non-null   int64  \n",
      " 70  ScreenPorch    1460 non-null   int64  \n",
      " 71  PoolArea       1460 non-null   int64  \n",
      " 72  PoolQC         7 non-null      object \n",
      " 73  Fence          281 non-null    object \n",
      " 74  MiscFeature    54 non-null     object \n",
      " 75  MiscVal        1460 non-null   int64  \n",
      " 76  MoSold         1460 non-null   int64  \n",
      " 77  YrSold         1460 non-null   int64  \n",
      " 78  SaleType       1460 non-null   object \n",
      " 79  SaleCondition  1460 non-null   object \n",
      " 80  SalePrice      1460 non-null   int64  \n",
      "dtypes: float64(3), int64(35), object(43)\n",
      "memory usage: 924.0+ KB\n"
     ]
    }
   ],
   "source": [
    "df_train.info()"
   ]
  },
  {
   "cell_type": "code",
   "execution_count": 7,
   "metadata": {},
   "outputs": [
    {
     "data": {
      "text/plain": [
       "Id                 0\n",
       "MSSubClass         0\n",
       "MSZoning           0\n",
       "LotFrontage      259\n",
       "LotArea            0\n",
       "                ... \n",
       "MoSold             0\n",
       "YrSold             0\n",
       "SaleType           0\n",
       "SaleCondition      0\n",
       "SalePrice          0\n",
       "Length: 81, dtype: int64"
      ]
     },
     "execution_count": 7,
     "metadata": {},
     "output_type": "execute_result"
    }
   ],
   "source": [
    "df_train.isnull().sum()"
   ]
  },
  {
   "cell_type": "code",
   "execution_count": 8,
   "metadata": {
    "scrolled": true
   },
   "outputs": [
    {
     "data": {
      "text/html": [
       "<div>\n",
       "<style scoped>\n",
       "    .dataframe tbody tr th:only-of-type {\n",
       "        vertical-align: middle;\n",
       "    }\n",
       "\n",
       "    .dataframe tbody tr th {\n",
       "        vertical-align: top;\n",
       "    }\n",
       "\n",
       "    .dataframe thead th {\n",
       "        text-align: right;\n",
       "    }\n",
       "</style>\n",
       "<table border=\"1\" class=\"dataframe\">\n",
       "  <thead>\n",
       "    <tr style=\"text-align: right;\">\n",
       "      <th></th>\n",
       "      <th>Id</th>\n",
       "      <th>MSSubClass</th>\n",
       "      <th>MSZoning</th>\n",
       "      <th>LotFrontage</th>\n",
       "      <th>LotArea</th>\n",
       "      <th>Street</th>\n",
       "      <th>Alley</th>\n",
       "      <th>LotShape</th>\n",
       "      <th>LandContour</th>\n",
       "      <th>Utilities</th>\n",
       "      <th>...</th>\n",
       "      <th>ScreenPorch</th>\n",
       "      <th>PoolArea</th>\n",
       "      <th>PoolQC</th>\n",
       "      <th>Fence</th>\n",
       "      <th>MiscFeature</th>\n",
       "      <th>MiscVal</th>\n",
       "      <th>MoSold</th>\n",
       "      <th>YrSold</th>\n",
       "      <th>SaleType</th>\n",
       "      <th>SaleCondition</th>\n",
       "    </tr>\n",
       "  </thead>\n",
       "  <tbody>\n",
       "    <tr>\n",
       "      <th>0</th>\n",
       "      <td>1461</td>\n",
       "      <td>20</td>\n",
       "      <td>RH</td>\n",
       "      <td>80.0</td>\n",
       "      <td>11622</td>\n",
       "      <td>Pave</td>\n",
       "      <td>NaN</td>\n",
       "      <td>Reg</td>\n",
       "      <td>Lvl</td>\n",
       "      <td>AllPub</td>\n",
       "      <td>...</td>\n",
       "      <td>120</td>\n",
       "      <td>0</td>\n",
       "      <td>NaN</td>\n",
       "      <td>MnPrv</td>\n",
       "      <td>NaN</td>\n",
       "      <td>0</td>\n",
       "      <td>6</td>\n",
       "      <td>2010</td>\n",
       "      <td>WD</td>\n",
       "      <td>Normal</td>\n",
       "    </tr>\n",
       "    <tr>\n",
       "      <th>1</th>\n",
       "      <td>1462</td>\n",
       "      <td>20</td>\n",
       "      <td>RL</td>\n",
       "      <td>81.0</td>\n",
       "      <td>14267</td>\n",
       "      <td>Pave</td>\n",
       "      <td>NaN</td>\n",
       "      <td>IR1</td>\n",
       "      <td>Lvl</td>\n",
       "      <td>AllPub</td>\n",
       "      <td>...</td>\n",
       "      <td>0</td>\n",
       "      <td>0</td>\n",
       "      <td>NaN</td>\n",
       "      <td>NaN</td>\n",
       "      <td>Gar2</td>\n",
       "      <td>12500</td>\n",
       "      <td>6</td>\n",
       "      <td>2010</td>\n",
       "      <td>WD</td>\n",
       "      <td>Normal</td>\n",
       "    </tr>\n",
       "    <tr>\n",
       "      <th>2</th>\n",
       "      <td>1463</td>\n",
       "      <td>60</td>\n",
       "      <td>RL</td>\n",
       "      <td>74.0</td>\n",
       "      <td>13830</td>\n",
       "      <td>Pave</td>\n",
       "      <td>NaN</td>\n",
       "      <td>IR1</td>\n",
       "      <td>Lvl</td>\n",
       "      <td>AllPub</td>\n",
       "      <td>...</td>\n",
       "      <td>0</td>\n",
       "      <td>0</td>\n",
       "      <td>NaN</td>\n",
       "      <td>MnPrv</td>\n",
       "      <td>NaN</td>\n",
       "      <td>0</td>\n",
       "      <td>3</td>\n",
       "      <td>2010</td>\n",
       "      <td>WD</td>\n",
       "      <td>Normal</td>\n",
       "    </tr>\n",
       "    <tr>\n",
       "      <th>3</th>\n",
       "      <td>1464</td>\n",
       "      <td>60</td>\n",
       "      <td>RL</td>\n",
       "      <td>78.0</td>\n",
       "      <td>9978</td>\n",
       "      <td>Pave</td>\n",
       "      <td>NaN</td>\n",
       "      <td>IR1</td>\n",
       "      <td>Lvl</td>\n",
       "      <td>AllPub</td>\n",
       "      <td>...</td>\n",
       "      <td>0</td>\n",
       "      <td>0</td>\n",
       "      <td>NaN</td>\n",
       "      <td>NaN</td>\n",
       "      <td>NaN</td>\n",
       "      <td>0</td>\n",
       "      <td>6</td>\n",
       "      <td>2010</td>\n",
       "      <td>WD</td>\n",
       "      <td>Normal</td>\n",
       "    </tr>\n",
       "    <tr>\n",
       "      <th>4</th>\n",
       "      <td>1465</td>\n",
       "      <td>120</td>\n",
       "      <td>RL</td>\n",
       "      <td>43.0</td>\n",
       "      <td>5005</td>\n",
       "      <td>Pave</td>\n",
       "      <td>NaN</td>\n",
       "      <td>IR1</td>\n",
       "      <td>HLS</td>\n",
       "      <td>AllPub</td>\n",
       "      <td>...</td>\n",
       "      <td>144</td>\n",
       "      <td>0</td>\n",
       "      <td>NaN</td>\n",
       "      <td>NaN</td>\n",
       "      <td>NaN</td>\n",
       "      <td>0</td>\n",
       "      <td>1</td>\n",
       "      <td>2010</td>\n",
       "      <td>WD</td>\n",
       "      <td>Normal</td>\n",
       "    </tr>\n",
       "  </tbody>\n",
       "</table>\n",
       "<p>5 rows × 80 columns</p>\n",
       "</div>"
      ],
      "text/plain": [
       "     Id  MSSubClass MSZoning  LotFrontage  LotArea Street Alley LotShape  \\\n",
       "0  1461          20       RH         80.0    11622   Pave   NaN      Reg   \n",
       "1  1462          20       RL         81.0    14267   Pave   NaN      IR1   \n",
       "2  1463          60       RL         74.0    13830   Pave   NaN      IR1   \n",
       "3  1464          60       RL         78.0     9978   Pave   NaN      IR1   \n",
       "4  1465         120       RL         43.0     5005   Pave   NaN      IR1   \n",
       "\n",
       "  LandContour Utilities  ... ScreenPorch PoolArea PoolQC  Fence MiscFeature  \\\n",
       "0         Lvl    AllPub  ...         120        0    NaN  MnPrv         NaN   \n",
       "1         Lvl    AllPub  ...           0        0    NaN    NaN        Gar2   \n",
       "2         Lvl    AllPub  ...           0        0    NaN  MnPrv         NaN   \n",
       "3         Lvl    AllPub  ...           0        0    NaN    NaN         NaN   \n",
       "4         HLS    AllPub  ...         144        0    NaN    NaN         NaN   \n",
       "\n",
       "  MiscVal MoSold  YrSold  SaleType  SaleCondition  \n",
       "0       0      6    2010        WD         Normal  \n",
       "1   12500      6    2010        WD         Normal  \n",
       "2       0      3    2010        WD         Normal  \n",
       "3       0      6    2010        WD         Normal  \n",
       "4       0      1    2010        WD         Normal  \n",
       "\n",
       "[5 rows x 80 columns]"
      ]
     },
     "execution_count": 8,
     "metadata": {},
     "output_type": "execute_result"
    }
   ],
   "source": [
    "df_test.head()"
   ]
  },
  {
   "cell_type": "code",
   "execution_count": 9,
   "metadata": {},
   "outputs": [
    {
     "data": {
      "text/plain": [
       "(1459, 80)"
      ]
     },
     "execution_count": 9,
     "metadata": {},
     "output_type": "execute_result"
    }
   ],
   "source": [
    "df_test.shape"
   ]
  },
  {
   "cell_type": "code",
   "execution_count": 10,
   "metadata": {
    "scrolled": true
   },
   "outputs": [
    {
     "data": {
      "text/plain": [
       "Index(['Id', 'MSSubClass', 'MSZoning', 'LotFrontage', 'LotArea', 'Street',\n",
       "       'Alley', 'LotShape', 'LandContour', 'Utilities', 'LotConfig',\n",
       "       'LandSlope', 'Neighborhood', 'Condition1', 'Condition2', 'BldgType',\n",
       "       'HouseStyle', 'OverallQual', 'OverallCond', 'YearBuilt', 'YearRemodAdd',\n",
       "       'RoofStyle', 'RoofMatl', 'Exterior1st', 'Exterior2nd', 'MasVnrType',\n",
       "       'MasVnrArea', 'ExterQual', 'ExterCond', 'Foundation', 'BsmtQual',\n",
       "       'BsmtCond', 'BsmtExposure', 'BsmtFinType1', 'BsmtFinSF1',\n",
       "       'BsmtFinType2', 'BsmtFinSF2', 'BsmtUnfSF', 'TotalBsmtSF', 'Heating',\n",
       "       'HeatingQC', 'CentralAir', 'Electrical', '1stFlrSF', '2ndFlrSF',\n",
       "       'LowQualFinSF', 'GrLivArea', 'BsmtFullBath', 'BsmtHalfBath', 'FullBath',\n",
       "       'HalfBath', 'BedroomAbvGr', 'KitchenAbvGr', 'KitchenQual',\n",
       "       'TotRmsAbvGrd', 'Functional', 'Fireplaces', 'FireplaceQu', 'GarageType',\n",
       "       'GarageYrBlt', 'GarageFinish', 'GarageCars', 'GarageArea', 'GarageQual',\n",
       "       'GarageCond', 'PavedDrive', 'WoodDeckSF', 'OpenPorchSF',\n",
       "       'EnclosedPorch', '3SsnPorch', 'ScreenPorch', 'PoolArea', 'PoolQC',\n",
       "       'Fence', 'MiscFeature', 'MiscVal', 'MoSold', 'YrSold', 'SaleType',\n",
       "       'SaleCondition'],\n",
       "      dtype='object')"
      ]
     },
     "execution_count": 10,
     "metadata": {},
     "output_type": "execute_result"
    }
   ],
   "source": [
    "df_test.columns"
   ]
  },
  {
   "cell_type": "code",
   "execution_count": 11,
   "metadata": {
    "scrolled": false
   },
   "outputs": [
    {
     "name": "stdout",
     "output_type": "stream",
     "text": [
      "<class 'pandas.core.frame.DataFrame'>\n",
      "RangeIndex: 1459 entries, 0 to 1458\n",
      "Data columns (total 80 columns):\n",
      " #   Column         Non-Null Count  Dtype  \n",
      "---  ------         --------------  -----  \n",
      " 0   Id             1459 non-null   int64  \n",
      " 1   MSSubClass     1459 non-null   int64  \n",
      " 2   MSZoning       1455 non-null   object \n",
      " 3   LotFrontage    1232 non-null   float64\n",
      " 4   LotArea        1459 non-null   int64  \n",
      " 5   Street         1459 non-null   object \n",
      " 6   Alley          107 non-null    object \n",
      " 7   LotShape       1459 non-null   object \n",
      " 8   LandContour    1459 non-null   object \n",
      " 9   Utilities      1457 non-null   object \n",
      " 10  LotConfig      1459 non-null   object \n",
      " 11  LandSlope      1459 non-null   object \n",
      " 12  Neighborhood   1459 non-null   object \n",
      " 13  Condition1     1459 non-null   object \n",
      " 14  Condition2     1459 non-null   object \n",
      " 15  BldgType       1459 non-null   object \n",
      " 16  HouseStyle     1459 non-null   object \n",
      " 17  OverallQual    1459 non-null   int64  \n",
      " 18  OverallCond    1459 non-null   int64  \n",
      " 19  YearBuilt      1459 non-null   int64  \n",
      " 20  YearRemodAdd   1459 non-null   int64  \n",
      " 21  RoofStyle      1459 non-null   object \n",
      " 22  RoofMatl       1459 non-null   object \n",
      " 23  Exterior1st    1458 non-null   object \n",
      " 24  Exterior2nd    1458 non-null   object \n",
      " 25  MasVnrType     1443 non-null   object \n",
      " 26  MasVnrArea     1444 non-null   float64\n",
      " 27  ExterQual      1459 non-null   object \n",
      " 28  ExterCond      1459 non-null   object \n",
      " 29  Foundation     1459 non-null   object \n",
      " 30  BsmtQual       1415 non-null   object \n",
      " 31  BsmtCond       1414 non-null   object \n",
      " 32  BsmtExposure   1415 non-null   object \n",
      " 33  BsmtFinType1   1417 non-null   object \n",
      " 34  BsmtFinSF1     1458 non-null   float64\n",
      " 35  BsmtFinType2   1417 non-null   object \n",
      " 36  BsmtFinSF2     1458 non-null   float64\n",
      " 37  BsmtUnfSF      1458 non-null   float64\n",
      " 38  TotalBsmtSF    1458 non-null   float64\n",
      " 39  Heating        1459 non-null   object \n",
      " 40  HeatingQC      1459 non-null   object \n",
      " 41  CentralAir     1459 non-null   object \n",
      " 42  Electrical     1459 non-null   object \n",
      " 43  1stFlrSF       1459 non-null   int64  \n",
      " 44  2ndFlrSF       1459 non-null   int64  \n",
      " 45  LowQualFinSF   1459 non-null   int64  \n",
      " 46  GrLivArea      1459 non-null   int64  \n",
      " 47  BsmtFullBath   1457 non-null   float64\n",
      " 48  BsmtHalfBath   1457 non-null   float64\n",
      " 49  FullBath       1459 non-null   int64  \n",
      " 50  HalfBath       1459 non-null   int64  \n",
      " 51  BedroomAbvGr   1459 non-null   int64  \n",
      " 52  KitchenAbvGr   1459 non-null   int64  \n",
      " 53  KitchenQual    1458 non-null   object \n",
      " 54  TotRmsAbvGrd   1459 non-null   int64  \n",
      " 55  Functional     1457 non-null   object \n",
      " 56  Fireplaces     1459 non-null   int64  \n",
      " 57  FireplaceQu    729 non-null    object \n",
      " 58  GarageType     1383 non-null   object \n",
      " 59  GarageYrBlt    1381 non-null   float64\n",
      " 60  GarageFinish   1381 non-null   object \n",
      " 61  GarageCars     1458 non-null   float64\n",
      " 62  GarageArea     1458 non-null   float64\n",
      " 63  GarageQual     1381 non-null   object \n",
      " 64  GarageCond     1381 non-null   object \n",
      " 65  PavedDrive     1459 non-null   object \n",
      " 66  WoodDeckSF     1459 non-null   int64  \n",
      " 67  OpenPorchSF    1459 non-null   int64  \n",
      " 68  EnclosedPorch  1459 non-null   int64  \n",
      " 69  3SsnPorch      1459 non-null   int64  \n",
      " 70  ScreenPorch    1459 non-null   int64  \n",
      " 71  PoolArea       1459 non-null   int64  \n",
      " 72  PoolQC         3 non-null      object \n",
      " 73  Fence          290 non-null    object \n",
      " 74  MiscFeature    51 non-null     object \n",
      " 75  MiscVal        1459 non-null   int64  \n",
      " 76  MoSold         1459 non-null   int64  \n",
      " 77  YrSold         1459 non-null   int64  \n",
      " 78  SaleType       1458 non-null   object \n",
      " 79  SaleCondition  1459 non-null   object \n",
      "dtypes: float64(11), int64(26), object(43)\n",
      "memory usage: 912.0+ KB\n"
     ]
    }
   ],
   "source": [
    "df_test.info()"
   ]
  },
  {
   "cell_type": "code",
   "execution_count": 12,
   "metadata": {
    "scrolled": true
   },
   "outputs": [
    {
     "data": {
      "text/plain": [
       "259"
      ]
     },
     "execution_count": 12,
     "metadata": {},
     "output_type": "execute_result"
    }
   ],
   "source": [
    "df_train['LotFrontage'].isnull().sum()"
   ]
  },
  {
   "cell_type": "code",
   "execution_count": 13,
   "metadata": {
    "scrolled": true
   },
   "outputs": [
    {
     "data": {
      "text/plain": [
       "227"
      ]
     },
     "execution_count": 13,
     "metadata": {},
     "output_type": "execute_result"
    }
   ],
   "source": [
    "df_test['LotFrontage'].isnull().sum()"
   ]
  },
  {
   "cell_type": "code",
   "execution_count": null,
   "metadata": {},
   "outputs": [],
   "source": []
  },
  {
   "cell_type": "code",
   "execution_count": 14,
   "metadata": {},
   "outputs": [],
   "source": [
    "# Replace missing numerical values with mean of the column\n",
    "\n",
    "df_train['LotFrontage'].fillna(df_train['LotFrontage'].mean(),inplace=True)\n",
    "df_test['LotFrontage'].fillna(df_test['LotFrontage'].mean(),inplace=True)"
   ]
  },
  {
   "cell_type": "code",
   "execution_count": 15,
   "metadata": {},
   "outputs": [
    {
     "name": "stdout",
     "output_type": "stream",
     "text": [
      "0\n",
      "0\n"
     ]
    }
   ],
   "source": [
    "print(df_train['LotFrontage'].isnull().sum())\n",
    "print(df_test['LotFrontage'].isnull().sum())"
   ]
  },
  {
   "cell_type": "code",
   "execution_count": 16,
   "metadata": {
    "scrolled": true
   },
   "outputs": [
    {
     "data": {
      "text/plain": [
       "Grvl    50\n",
       "Pave    41\n",
       "Name: Alley, dtype: int64"
      ]
     },
     "execution_count": 16,
     "metadata": {},
     "output_type": "execute_result"
    }
   ],
   "source": [
    "df_train['Alley'].value_counts()"
   ]
  },
  {
   "cell_type": "code",
   "execution_count": 17,
   "metadata": {},
   "outputs": [
    {
     "data": {
      "text/plain": [
       "1369"
      ]
     },
     "execution_count": 17,
     "metadata": {},
     "output_type": "execute_result"
    }
   ],
   "source": [
    "df_train['Alley'].isnull().sum()"
   ]
  },
  {
   "cell_type": "code",
   "execution_count": 18,
   "metadata": {
    "scrolled": true
   },
   "outputs": [
    {
     "data": {
      "text/plain": [
       "Grvl    70\n",
       "Pave    37\n",
       "Name: Alley, dtype: int64"
      ]
     },
     "execution_count": 18,
     "metadata": {},
     "output_type": "execute_result"
    }
   ],
   "source": [
    "df_test['Alley'].value_counts()"
   ]
  },
  {
   "cell_type": "code",
   "execution_count": 19,
   "metadata": {},
   "outputs": [
    {
     "data": {
      "text/plain": [
       "1352"
      ]
     },
     "execution_count": 19,
     "metadata": {},
     "output_type": "execute_result"
    }
   ],
   "source": [
    "df_test['Alley'].isnull().sum()"
   ]
  },
  {
   "cell_type": "code",
   "execution_count": 20,
   "metadata": {},
   "outputs": [],
   "source": [
    "# we have very less information and values for alley so dropin alley column\n",
    "df_train.drop('Alley',axis=1,inplace = True)\n",
    "df_test.drop('Alley',axis=1,inplace = True)"
   ]
  },
  {
   "cell_type": "code",
   "execution_count": null,
   "metadata": {},
   "outputs": [],
   "source": []
  },
  {
   "cell_type": "code",
   "execution_count": 21,
   "metadata": {},
   "outputs": [
    {
     "data": {
      "text/plain": [
       "4"
      ]
     },
     "execution_count": 21,
     "metadata": {},
     "output_type": "execute_result"
    }
   ],
   "source": [
    "df_test['MSZoning'].isnull().sum()"
   ]
  },
  {
   "cell_type": "code",
   "execution_count": 22,
   "metadata": {},
   "outputs": [
    {
     "data": {
      "text/plain": [
       "RL         1114\n",
       "RM          242\n",
       "FV           74\n",
       "C (all)      15\n",
       "RH           10\n",
       "Name: MSZoning, dtype: int64"
      ]
     },
     "execution_count": 22,
     "metadata": {},
     "output_type": "execute_result"
    }
   ],
   "source": [
    "df_test['MSZoning'].value_counts()"
   ]
  },
  {
   "cell_type": "code",
   "execution_count": 23,
   "metadata": {},
   "outputs": [],
   "source": [
    "df_test['MSZoning'].fillna('RL',inplace=True)"
   ]
  },
  {
   "cell_type": "code",
   "execution_count": null,
   "metadata": {},
   "outputs": [],
   "source": []
  },
  {
   "cell_type": "code",
   "execution_count": 24,
   "metadata": {},
   "outputs": [
    {
     "data": {
      "text/plain": [
       "2"
      ]
     },
     "execution_count": 24,
     "metadata": {},
     "output_type": "execute_result"
    }
   ],
   "source": [
    "df_test['Utilities'].isnull().sum()"
   ]
  },
  {
   "cell_type": "code",
   "execution_count": 25,
   "metadata": {},
   "outputs": [
    {
     "data": {
      "text/plain": [
       "AllPub    1457\n",
       "Name: Utilities, dtype: int64"
      ]
     },
     "execution_count": 25,
     "metadata": {},
     "output_type": "execute_result"
    }
   ],
   "source": [
    "df_test['Utilities'].value_counts()"
   ]
  },
  {
   "cell_type": "code",
   "execution_count": 26,
   "metadata": {},
   "outputs": [],
   "source": [
    "df_test['Utilities'].fillna('AllPub',inplace=True)"
   ]
  },
  {
   "cell_type": "code",
   "execution_count": 27,
   "metadata": {},
   "outputs": [
    {
     "data": {
      "text/plain": [
       "1"
      ]
     },
     "execution_count": 27,
     "metadata": {},
     "output_type": "execute_result"
    }
   ],
   "source": [
    "df_test['Exterior1st'].isnull().sum()"
   ]
  },
  {
   "cell_type": "code",
   "execution_count": 28,
   "metadata": {},
   "outputs": [
    {
     "data": {
      "text/plain": [
       "VinylSd    510\n",
       "MetalSd    230\n",
       "HdBoard    220\n",
       "Wd Sdng    205\n",
       "Plywood    113\n",
       "CemntBd     65\n",
       "BrkFace     37\n",
       "WdShing     30\n",
       "AsbShng     24\n",
       "Stucco      18\n",
       "BrkComm      4\n",
       "AsphShn      1\n",
       "CBlock       1\n",
       "Name: Exterior1st, dtype: int64"
      ]
     },
     "execution_count": 28,
     "metadata": {},
     "output_type": "execute_result"
    }
   ],
   "source": [
    "df_test['Exterior1st'].value_counts()"
   ]
  },
  {
   "cell_type": "code",
   "execution_count": 29,
   "metadata": {},
   "outputs": [],
   "source": [
    "df_test['Exterior1st'].fillna('VinylSd',inplace=True)"
   ]
  },
  {
   "cell_type": "code",
   "execution_count": 30,
   "metadata": {},
   "outputs": [
    {
     "data": {
      "text/plain": [
       "VinylSd    510\n",
       "MetalSd    233\n",
       "HdBoard    199\n",
       "Wd Sdng    194\n",
       "Plywood    128\n",
       "CmentBd     66\n",
       "Wd Shng     43\n",
       "BrkFace     22\n",
       "Stucco      21\n",
       "AsbShng     18\n",
       "Brk Cmn     15\n",
       "ImStucc      5\n",
       "CBlock       2\n",
       "AsphShn      1\n",
       "Stone        1\n",
       "Name: Exterior2nd, dtype: int64"
      ]
     },
     "execution_count": 30,
     "metadata": {},
     "output_type": "execute_result"
    }
   ],
   "source": [
    "df_test['Exterior2nd'].value_counts()"
   ]
  },
  {
   "cell_type": "code",
   "execution_count": 31,
   "metadata": {},
   "outputs": [],
   "source": [
    "df_test['Exterior2nd'].fillna('VinylSd',inplace=True)"
   ]
  },
  {
   "cell_type": "code",
   "execution_count": 32,
   "metadata": {},
   "outputs": [
    {
     "data": {
      "text/plain": [
       "None       878\n",
       "BrkFace    434\n",
       "Stone      121\n",
       "BrkCmn      10\n",
       "Name: MasVnrType, dtype: int64"
      ]
     },
     "execution_count": 32,
     "metadata": {},
     "output_type": "execute_result"
    }
   ],
   "source": [
    "df_test['MasVnrType'].value_counts()"
   ]
  },
  {
   "cell_type": "code",
   "execution_count": 33,
   "metadata": {},
   "outputs": [
    {
     "data": {
      "text/plain": [
       "16"
      ]
     },
     "execution_count": 33,
     "metadata": {},
     "output_type": "execute_result"
    }
   ],
   "source": [
    "df_test['MasVnrType'].isnull().sum()"
   ]
  },
  {
   "cell_type": "code",
   "execution_count": 34,
   "metadata": {},
   "outputs": [
    {
     "data": {
      "text/plain": [
       "8"
      ]
     },
     "execution_count": 34,
     "metadata": {},
     "output_type": "execute_result"
    }
   ],
   "source": [
    "df_train['MasVnrType'].isnull().sum()"
   ]
  },
  {
   "cell_type": "code",
   "execution_count": 35,
   "metadata": {},
   "outputs": [],
   "source": [
    "df_test['MasVnrType'].fillna('None',inplace=True)\n",
    "df_train['MasVnrType'].fillna('None',inplace=True)"
   ]
  },
  {
   "cell_type": "code",
   "execution_count": 36,
   "metadata": {},
   "outputs": [
    {
     "data": {
      "text/plain": [
       "8"
      ]
     },
     "execution_count": 36,
     "metadata": {},
     "output_type": "execute_result"
    }
   ],
   "source": [
    "df_train['MasVnrArea'].isnull().sum()"
   ]
  },
  {
   "cell_type": "code",
   "execution_count": 37,
   "metadata": {},
   "outputs": [
    {
     "data": {
      "text/plain": [
       "15"
      ]
     },
     "execution_count": 37,
     "metadata": {},
     "output_type": "execute_result"
    }
   ],
   "source": [
    "df_test['MasVnrArea'].isnull().sum()"
   ]
  },
  {
   "cell_type": "code",
   "execution_count": 38,
   "metadata": {},
   "outputs": [
    {
     "data": {
      "text/plain": [
       "None       872\n",
       "BrkFace    445\n",
       "Stone      128\n",
       "BrkCmn      15\n",
       "Name: MasVnrType, dtype: int64"
      ]
     },
     "execution_count": 38,
     "metadata": {},
     "output_type": "execute_result"
    }
   ],
   "source": [
    "df_train['MasVnrType'].value_counts()"
   ]
  },
  {
   "cell_type": "code",
   "execution_count": 39,
   "metadata": {},
   "outputs": [],
   "source": [
    "df_test['MasVnrArea'].fillna('None',inplace=True)\n",
    "df_train['MasVnrArea'].fillna('None',inplace=True)"
   ]
  },
  {
   "cell_type": "code",
   "execution_count": 40,
   "metadata": {},
   "outputs": [
    {
     "data": {
      "text/plain": [
       "44"
      ]
     },
     "execution_count": 40,
     "metadata": {},
     "output_type": "execute_result"
    }
   ],
   "source": [
    "df_test['BsmtQual'].isnull().sum()"
   ]
  },
  {
   "cell_type": "code",
   "execution_count": 41,
   "metadata": {},
   "outputs": [
    {
     "data": {
      "text/plain": [
       "37"
      ]
     },
     "execution_count": 41,
     "metadata": {},
     "output_type": "execute_result"
    }
   ],
   "source": [
    "df_train['BsmtQual'].isnull().sum()"
   ]
  },
  {
   "cell_type": "code",
   "execution_count": 42,
   "metadata": {},
   "outputs": [
    {
     "data": {
      "text/plain": [
       "TA    649\n",
       "Gd    618\n",
       "Ex    121\n",
       "Fa     35\n",
       "Name: BsmtQual, dtype: int64"
      ]
     },
     "execution_count": 42,
     "metadata": {},
     "output_type": "execute_result"
    }
   ],
   "source": [
    "df_train['BsmtQual'].value_counts()"
   ]
  },
  {
   "cell_type": "code",
   "execution_count": 43,
   "metadata": {},
   "outputs": [],
   "source": [
    "df_test['BsmtQual'].fillna('TA',inplace=True)\n",
    "df_train['BsmtQual'].fillna('TA',inplace=True)"
   ]
  },
  {
   "cell_type": "code",
   "execution_count": 44,
   "metadata": {},
   "outputs": [
    {
     "name": "stdout",
     "output_type": "stream",
     "text": [
      "45\n",
      "37\n",
      "TA    1311\n",
      "Gd      65\n",
      "Fa      45\n",
      "Po       2\n",
      "Name: BsmtCond, dtype: int64\n"
     ]
    }
   ],
   "source": [
    "print(df_test['BsmtCond'].isnull().sum())\n",
    "print(df_train['BsmtCond'].isnull().sum())\n",
    "print(df_train['BsmtCond'].value_counts())"
   ]
  },
  {
   "cell_type": "code",
   "execution_count": 45,
   "metadata": {},
   "outputs": [],
   "source": [
    "df_test['BsmtCond'].fillna('TA',inplace=True)\n",
    "df_train['BsmtCond'].fillna('TA',inplace=True)"
   ]
  },
  {
   "cell_type": "code",
   "execution_count": 46,
   "metadata": {},
   "outputs": [
    {
     "name": "stdout",
     "output_type": "stream",
     "text": [
      "44\n",
      "38\n",
      "No    953\n",
      "Av    221\n",
      "Gd    134\n",
      "Mn    114\n",
      "Name: BsmtExposure, dtype: int64\n"
     ]
    }
   ],
   "source": [
    "print(df_test['BsmtExposure'].isnull().sum())\n",
    "print(df_train['BsmtExposure'].isnull().sum())\n",
    "print(df_train['BsmtExposure'].value_counts())"
   ]
  },
  {
   "cell_type": "code",
   "execution_count": 47,
   "metadata": {},
   "outputs": [],
   "source": [
    "df_test['BsmtExposure'].fillna('No',inplace=True)\n",
    "df_train['BsmtExposure'].fillna('No',inplace=True)"
   ]
  },
  {
   "cell_type": "code",
   "execution_count": 48,
   "metadata": {},
   "outputs": [
    {
     "name": "stdout",
     "output_type": "stream",
     "text": [
      "42\n",
      "37\n",
      "Unf    430\n",
      "GLQ    418\n",
      "ALQ    220\n",
      "BLQ    148\n",
      "Rec    133\n",
      "LwQ     74\n",
      "Name: BsmtFinType1, dtype: int64\n"
     ]
    }
   ],
   "source": [
    "print(df_test['BsmtFinType1'].isnull().sum())\n",
    "print(df_train['BsmtFinType1'].isnull().sum())\n",
    "print(df_train['BsmtFinType1'].value_counts())"
   ]
  },
  {
   "cell_type": "code",
   "execution_count": 49,
   "metadata": {},
   "outputs": [],
   "source": [
    "df_test['BsmtFinType1'].fillna('Unf',inplace=True)\n",
    "df_train['BsmtFinType1'].fillna('Unf',inplace=True)"
   ]
  },
  {
   "cell_type": "code",
   "execution_count": 50,
   "metadata": {},
   "outputs": [
    {
     "name": "stdout",
     "output_type": "stream",
     "text": [
      "1\n",
      "0\n"
     ]
    }
   ],
   "source": [
    "print(df_test['BsmtFinSF1'].isnull().sum())\n",
    "print(df_train['BsmtFinSF1'].isnull().sum())\n"
   ]
  },
  {
   "cell_type": "code",
   "execution_count": 51,
   "metadata": {},
   "outputs": [],
   "source": [
    "df_test['BsmtFinSF1'].fillna(df_train['BsmtFinSF1'].mean(),inplace=True)"
   ]
  },
  {
   "cell_type": "code",
   "execution_count": 52,
   "metadata": {},
   "outputs": [
    {
     "name": "stdout",
     "output_type": "stream",
     "text": [
      "42\n",
      "38\n",
      "Unf    1256\n",
      "Rec      54\n",
      "LwQ      46\n",
      "BLQ      33\n",
      "ALQ      19\n",
      "GLQ      14\n",
      "Name: BsmtFinType2, dtype: int64\n"
     ]
    }
   ],
   "source": [
    "print(df_test['BsmtFinType2'].isnull().sum())\n",
    "print(df_train['BsmtFinType2'].isnull().sum())\n",
    "print(df_train['BsmtFinType2'].value_counts())"
   ]
  },
  {
   "cell_type": "code",
   "execution_count": 53,
   "metadata": {},
   "outputs": [],
   "source": [
    "df_test['BsmtFinType2'].fillna('Unf',inplace=True)\n",
    "df_train['BsmtFinType2'].fillna('Unf',inplace=True)"
   ]
  },
  {
   "cell_type": "code",
   "execution_count": 54,
   "metadata": {},
   "outputs": [
    {
     "name": "stdout",
     "output_type": "stream",
     "text": [
      "1\n",
      "0\n"
     ]
    }
   ],
   "source": [
    "print(df_test['BsmtFinSF2'].isnull().sum())\n",
    "print(df_train['BsmtFinSF2'].isnull().sum())\n"
   ]
  },
  {
   "cell_type": "code",
   "execution_count": 55,
   "metadata": {},
   "outputs": [],
   "source": [
    "df_test['BsmtFinSF2'].fillna(df_train['BsmtFinSF2'].mean(),inplace=True)"
   ]
  },
  {
   "cell_type": "code",
   "execution_count": 56,
   "metadata": {},
   "outputs": [
    {
     "name": "stdout",
     "output_type": "stream",
     "text": [
      "730\n",
      "690\n",
      "Gd    380\n",
      "TA    313\n",
      "Fa     33\n",
      "Ex     24\n",
      "Po     20\n",
      "Name: FireplaceQu, dtype: int64\n"
     ]
    }
   ],
   "source": [
    "print(df_test['FireplaceQu'].isnull().sum())\n",
    "print(df_train['FireplaceQu'].isnull().sum())\n",
    "print(df_train['FireplaceQu'].value_counts())"
   ]
  },
  {
   "cell_type": "code",
   "execution_count": 57,
   "metadata": {},
   "outputs": [],
   "source": [
    "df_test['FireplaceQu'].fillna('missing',inplace=True)\n",
    "df_train['FireplaceQu'].fillna('missing',inplace=True)"
   ]
  },
  {
   "cell_type": "code",
   "execution_count": 58,
   "metadata": {},
   "outputs": [
    {
     "name": "stdout",
     "output_type": "stream",
     "text": [
      "76\n",
      "81\n",
      "Attchd     870\n",
      "Detchd     387\n",
      "BuiltIn     88\n",
      "Basment     19\n",
      "CarPort      9\n",
      "2Types       6\n",
      "Name: GarageType, dtype: int64\n"
     ]
    }
   ],
   "source": [
    "print(df_test['GarageType'].isnull().sum())\n",
    "print(df_train['GarageType'].isnull().sum())\n",
    "print(df_train['GarageType'].value_counts())"
   ]
  },
  {
   "cell_type": "code",
   "execution_count": 59,
   "metadata": {},
   "outputs": [],
   "source": [
    "df_test['GarageType'].fillna('Attchd',inplace=True)\n",
    "df_train['GarageType'].fillna('Attchd',inplace=True)"
   ]
  },
  {
   "cell_type": "code",
   "execution_count": 60,
   "metadata": {},
   "outputs": [
    {
     "name": "stdout",
     "output_type": "stream",
     "text": [
      "78\n",
      "81\n"
     ]
    }
   ],
   "source": [
    "print(df_test['GarageYrBlt'].isnull().sum())\n",
    "print(df_train['GarageYrBlt'].isnull().sum())\n"
   ]
  },
  {
   "cell_type": "code",
   "execution_count": 61,
   "metadata": {},
   "outputs": [],
   "source": [
    "df_test['GarageYrBlt'].fillna(df_train['GarageYrBlt'].mean(),inplace=True)\n",
    "df_train['GarageYrBlt'].fillna(df_train['GarageYrBlt'].mean(),inplace=True)"
   ]
  },
  {
   "cell_type": "code",
   "execution_count": 62,
   "metadata": {},
   "outputs": [
    {
     "name": "stdout",
     "output_type": "stream",
     "text": [
      "78\n",
      "81\n",
      "Unf    605\n",
      "RFn    422\n",
      "Fin    352\n",
      "Name: GarageFinish, dtype: int64\n"
     ]
    }
   ],
   "source": [
    "print(df_test['GarageFinish'].isnull().sum())\n",
    "print(df_train['GarageFinish'].isnull().sum())\n",
    "print(df_train['GarageFinish'].value_counts())"
   ]
  },
  {
   "cell_type": "code",
   "execution_count": 63,
   "metadata": {},
   "outputs": [],
   "source": [
    "df_test['GarageFinish'].fillna('Unf',inplace=True)\n",
    "df_train['GarageFinish'].fillna('Unf',inplace=True)"
   ]
  },
  {
   "cell_type": "code",
   "execution_count": 64,
   "metadata": {},
   "outputs": [
    {
     "name": "stdout",
     "output_type": "stream",
     "text": [
      "78\n",
      "81\n",
      "TA    1311\n",
      "Fa      48\n",
      "Gd      14\n",
      "Ex       3\n",
      "Po       3\n",
      "Name: GarageQual, dtype: int64\n"
     ]
    }
   ],
   "source": [
    "print(df_test['GarageQual'].isnull().sum())\n",
    "print(df_train['GarageQual'].isnull().sum())\n",
    "print(df_train['GarageQual'].value_counts())"
   ]
  },
  {
   "cell_type": "code",
   "execution_count": 65,
   "metadata": {},
   "outputs": [],
   "source": [
    "df_test['GarageQual'].fillna('TA',inplace=True)\n",
    "df_train['GarageQual'].fillna('TA',inplace=True)"
   ]
  },
  {
   "cell_type": "code",
   "execution_count": 66,
   "metadata": {},
   "outputs": [
    {
     "name": "stdout",
     "output_type": "stream",
     "text": [
      "78\n",
      "81\n",
      "TA    1326\n",
      "Fa      35\n",
      "Gd       9\n",
      "Po       7\n",
      "Ex       2\n",
      "Name: GarageCond, dtype: int64\n"
     ]
    }
   ],
   "source": [
    "print(df_test['GarageCond'].isnull().sum())\n",
    "print(df_train['GarageCond'].isnull().sum())\n",
    "print(df_train['GarageCond'].value_counts())"
   ]
  },
  {
   "cell_type": "code",
   "execution_count": 67,
   "metadata": {},
   "outputs": [],
   "source": [
    "df_test['GarageCond'].fillna('TA',inplace=True)\n",
    "df_train['GarageCond'].fillna('TA',inplace=True)"
   ]
  },
  {
   "cell_type": "code",
   "execution_count": 68,
   "metadata": {},
   "outputs": [
    {
     "name": "stdout",
     "output_type": "stream",
     "text": [
      "1456\n",
      "1453\n",
      "Gd    3\n",
      "Ex    2\n",
      "Fa    2\n",
      "Name: PoolQC, dtype: int64\n"
     ]
    }
   ],
   "source": [
    "print(df_test['PoolQC'].isnull().sum())\n",
    "print(df_train['PoolQC'].isnull().sum())\n",
    "print(df_train['PoolQC'].value_counts())"
   ]
  },
  {
   "cell_type": "code",
   "execution_count": 69,
   "metadata": {},
   "outputs": [],
   "source": [
    "df_train.drop('PoolQC',axis=1,inplace = True)\n",
    "df_test.drop('PoolQC',axis=1,inplace = True)"
   ]
  },
  {
   "cell_type": "code",
   "execution_count": 70,
   "metadata": {},
   "outputs": [
    {
     "name": "stdout",
     "output_type": "stream",
     "text": [
      "1169\n",
      "1179\n",
      "MnPrv    157\n",
      "GdPrv     59\n",
      "GdWo      54\n",
      "MnWw      11\n",
      "Name: Fence, dtype: int64\n"
     ]
    }
   ],
   "source": [
    "print(df_test['Fence'].isnull().sum())\n",
    "print(df_train['Fence'].isnull().sum())\n",
    "print(df_train['Fence'].value_counts())"
   ]
  },
  {
   "cell_type": "code",
   "execution_count": 71,
   "metadata": {},
   "outputs": [],
   "source": [
    "df_train.drop('Fence',axis=1,inplace = True)\n",
    "df_test.drop('Fence',axis=1,inplace = True)"
   ]
  },
  {
   "cell_type": "code",
   "execution_count": 72,
   "metadata": {},
   "outputs": [
    {
     "name": "stdout",
     "output_type": "stream",
     "text": [
      "1408\n",
      "1406\n",
      "Shed    49\n",
      "Gar2     2\n",
      "Othr     2\n",
      "TenC     1\n",
      "Name: MiscFeature, dtype: int64\n"
     ]
    }
   ],
   "source": [
    "print(df_test['MiscFeature'].isnull().sum())\n",
    "print(df_train['MiscFeature'].isnull().sum())\n",
    "print(df_train['MiscFeature'].value_counts())"
   ]
  },
  {
   "cell_type": "code",
   "execution_count": 73,
   "metadata": {},
   "outputs": [],
   "source": [
    "df_test['MiscFeature'].fillna('no_miscfeature',inplace=True)\n",
    "df_train['MiscFeature'].fillna('no_miscfeature',inplace=True)"
   ]
  },
  {
   "cell_type": "code",
   "execution_count": 74,
   "metadata": {},
   "outputs": [],
   "source": [
    "df_train_cleaned = df_train.dropna()\n",
    "df_test_cleaned = df_test.dropna()"
   ]
  },
  {
   "cell_type": "code",
   "execution_count": 75,
   "metadata": {},
   "outputs": [
    {
     "name": "stdout",
     "output_type": "stream",
     "text": [
      "<class 'pandas.core.frame.DataFrame'>\n",
      "Int64Index: 1459 entries, 0 to 1459\n",
      "Data columns (total 78 columns):\n",
      " #   Column         Non-Null Count  Dtype  \n",
      "---  ------         --------------  -----  \n",
      " 0   Id             1459 non-null   int64  \n",
      " 1   MSSubClass     1459 non-null   int64  \n",
      " 2   MSZoning       1459 non-null   object \n",
      " 3   LotFrontage    1459 non-null   float64\n",
      " 4   LotArea        1459 non-null   int64  \n",
      " 5   Street         1459 non-null   object \n",
      " 6   LotShape       1459 non-null   object \n",
      " 7   LandContour    1459 non-null   object \n",
      " 8   Utilities      1459 non-null   object \n",
      " 9   LotConfig      1459 non-null   object \n",
      " 10  LandSlope      1459 non-null   object \n",
      " 11  Neighborhood   1459 non-null   object \n",
      " 12  Condition1     1459 non-null   object \n",
      " 13  Condition2     1459 non-null   object \n",
      " 14  BldgType       1459 non-null   object \n",
      " 15  HouseStyle     1459 non-null   object \n",
      " 16  OverallQual    1459 non-null   int64  \n",
      " 17  OverallCond    1459 non-null   int64  \n",
      " 18  YearBuilt      1459 non-null   int64  \n",
      " 19  YearRemodAdd   1459 non-null   int64  \n",
      " 20  RoofStyle      1459 non-null   object \n",
      " 21  RoofMatl       1459 non-null   object \n",
      " 22  Exterior1st    1459 non-null   object \n",
      " 23  Exterior2nd    1459 non-null   object \n",
      " 24  MasVnrType     1459 non-null   object \n",
      " 25  MasVnrArea     1459 non-null   object \n",
      " 26  ExterQual      1459 non-null   object \n",
      " 27  ExterCond      1459 non-null   object \n",
      " 28  Foundation     1459 non-null   object \n",
      " 29  BsmtQual       1459 non-null   object \n",
      " 30  BsmtCond       1459 non-null   object \n",
      " 31  BsmtExposure   1459 non-null   object \n",
      " 32  BsmtFinType1   1459 non-null   object \n",
      " 33  BsmtFinSF1     1459 non-null   int64  \n",
      " 34  BsmtFinType2   1459 non-null   object \n",
      " 35  BsmtFinSF2     1459 non-null   int64  \n",
      " 36  BsmtUnfSF      1459 non-null   int64  \n",
      " 37  TotalBsmtSF    1459 non-null   int64  \n",
      " 38  Heating        1459 non-null   object \n",
      " 39  HeatingQC      1459 non-null   object \n",
      " 40  CentralAir     1459 non-null   object \n",
      " 41  Electrical     1459 non-null   object \n",
      " 42  1stFlrSF       1459 non-null   int64  \n",
      " 43  2ndFlrSF       1459 non-null   int64  \n",
      " 44  LowQualFinSF   1459 non-null   int64  \n",
      " 45  GrLivArea      1459 non-null   int64  \n",
      " 46  BsmtFullBath   1459 non-null   int64  \n",
      " 47  BsmtHalfBath   1459 non-null   int64  \n",
      " 48  FullBath       1459 non-null   int64  \n",
      " 49  HalfBath       1459 non-null   int64  \n",
      " 50  BedroomAbvGr   1459 non-null   int64  \n",
      " 51  KitchenAbvGr   1459 non-null   int64  \n",
      " 52  KitchenQual    1459 non-null   object \n",
      " 53  TotRmsAbvGrd   1459 non-null   int64  \n",
      " 54  Functional     1459 non-null   object \n",
      " 55  Fireplaces     1459 non-null   int64  \n",
      " 56  FireplaceQu    1459 non-null   object \n",
      " 57  GarageType     1459 non-null   object \n",
      " 58  GarageYrBlt    1459 non-null   float64\n",
      " 59  GarageFinish   1459 non-null   object \n",
      " 60  GarageCars     1459 non-null   int64  \n",
      " 61  GarageArea     1459 non-null   int64  \n",
      " 62  GarageQual     1459 non-null   object \n",
      " 63  GarageCond     1459 non-null   object \n",
      " 64  PavedDrive     1459 non-null   object \n",
      " 65  WoodDeckSF     1459 non-null   int64  \n",
      " 66  OpenPorchSF    1459 non-null   int64  \n",
      " 67  EnclosedPorch  1459 non-null   int64  \n",
      " 68  3SsnPorch      1459 non-null   int64  \n",
      " 69  ScreenPorch    1459 non-null   int64  \n",
      " 70  PoolArea       1459 non-null   int64  \n",
      " 71  MiscFeature    1459 non-null   object \n",
      " 72  MiscVal        1459 non-null   int64  \n",
      " 73  MoSold         1459 non-null   int64  \n",
      " 74  YrSold         1459 non-null   int64  \n",
      " 75  SaleType       1459 non-null   object \n",
      " 76  SaleCondition  1459 non-null   object \n",
      " 77  SalePrice      1459 non-null   int64  \n",
      "dtypes: float64(2), int64(35), object(41)\n",
      "memory usage: 900.5+ KB\n"
     ]
    }
   ],
   "source": [
    "df_train_cleaned.info()"
   ]
  },
  {
   "cell_type": "code",
   "execution_count": 76,
   "metadata": {},
   "outputs": [],
   "source": [
    "# now our data is cleaned lets encode the categorical columns"
   ]
  },
  {
   "cell_type": "code",
   "execution_count": 77,
   "metadata": {},
   "outputs": [
    {
     "name": "stdout",
     "output_type": "stream",
     "text": [
      "Categorical columns: ['MSZoning', 'Street', 'LotShape', 'LandContour', 'Utilities', 'LotConfig', 'LandSlope', 'Neighborhood', 'Condition1', 'Condition2', 'BldgType', 'HouseStyle', 'RoofStyle', 'RoofMatl', 'Exterior1st', 'Exterior2nd', 'MasVnrType', 'MasVnrArea', 'ExterQual', 'ExterCond', 'Foundation', 'BsmtQual', 'BsmtCond', 'BsmtExposure', 'BsmtFinType1', 'BsmtFinType2', 'Heating', 'HeatingQC', 'CentralAir', 'Electrical', 'KitchenQual', 'Functional', 'FireplaceQu', 'GarageType', 'GarageFinish', 'GarageQual', 'GarageCond', 'PavedDrive', 'MiscFeature', 'SaleType', 'SaleCondition']\n"
     ]
    }
   ],
   "source": [
    "column_types = df_train_cleaned.dtypes\n",
    "categorical_columns = column_types[column_types == 'object'].index.tolist()\n",
    "\n",
    "# Print the list of categorical columns\n",
    "print(\"Categorical columns:\", categorical_columns)"
   ]
  },
  {
   "cell_type": "code",
   "execution_count": null,
   "metadata": {},
   "outputs": [],
   "source": []
  },
  {
   "cell_type": "code",
   "execution_count": 78,
   "metadata": {},
   "outputs": [
    {
     "name": "stderr",
     "output_type": "stream",
     "text": [
      "C:\\Users\\Jash\\AppData\\Local\\Temp\\ipykernel_22392\\814236664.py:7: SettingWithCopyWarning: \n",
      "A value is trying to be set on a copy of a slice from a DataFrame.\n",
      "Try using .loc[row_indexer,col_indexer] = value instead\n",
      "\n",
      "See the caveats in the documentation: https://pandas.pydata.org/pandas-docs/stable/user_guide/indexing.html#returning-a-view-versus-a-copy\n",
      "  df_train_cleaned[mixed_type_columns] = df_train_cleaned[mixed_type_columns].astype(str)\n",
      "C:\\Users\\Jash\\AppData\\Local\\Temp\\ipykernel_22392\\814236664.py:11: SettingWithCopyWarning: \n",
      "A value is trying to be set on a copy of a slice from a DataFrame.\n",
      "Try using .loc[row_indexer,col_indexer] = value instead\n",
      "\n",
      "See the caveats in the documentation: https://pandas.pydata.org/pandas-docs/stable/user_guide/indexing.html#returning-a-view-versus-a-copy\n",
      "  df_train_cleaned[mixed_type_columns] = df_train_cleaned[mixed_type_columns].apply(label_encoder.fit_transform)\n"
     ]
    }
   ],
   "source": [
    "from sklearn.preprocessing import LabelEncoder\n",
    "\n",
    "\n",
    "mixed_type_columns = df_train_cleaned.select_dtypes(include=['object']).columns\n",
    "\n",
    "\n",
    "df_train_cleaned[mixed_type_columns] = df_train_cleaned[mixed_type_columns].astype(str)\n",
    "\n",
    "\n",
    "label_encoder = LabelEncoder()\n",
    "df_train_cleaned[mixed_type_columns] = df_train_cleaned[mixed_type_columns].apply(label_encoder.fit_transform)"
   ]
  },
  {
   "cell_type": "code",
   "execution_count": 79,
   "metadata": {},
   "outputs": [
    {
     "name": "stderr",
     "output_type": "stream",
     "text": [
      "C:\\Users\\Jash\\AppData\\Local\\Temp\\ipykernel_22392\\1441136827.py:4: SettingWithCopyWarning: \n",
      "A value is trying to be set on a copy of a slice from a DataFrame.\n",
      "Try using .loc[row_indexer,col_indexer] = value instead\n",
      "\n",
      "See the caveats in the documentation: https://pandas.pydata.org/pandas-docs/stable/user_guide/indexing.html#returning-a-view-versus-a-copy\n",
      "  df_test_cleaned[mixed_type_columns] = df_test_cleaned[mixed_type_columns].astype(str)\n",
      "C:\\Users\\Jash\\AppData\\Local\\Temp\\ipykernel_22392\\1441136827.py:8: SettingWithCopyWarning: \n",
      "A value is trying to be set on a copy of a slice from a DataFrame.\n",
      "Try using .loc[row_indexer,col_indexer] = value instead\n",
      "\n",
      "See the caveats in the documentation: https://pandas.pydata.org/pandas-docs/stable/user_guide/indexing.html#returning-a-view-versus-a-copy\n",
      "  df_test_cleaned[mixed_type_columns] = df_test_cleaned[mixed_type_columns].apply(label_encoder.fit_transform)\n"
     ]
    }
   ],
   "source": [
    "mixed_type_columns = df_test_cleaned.select_dtypes(include=['object']).columns\n",
    "\n",
    "\n",
    "df_test_cleaned[mixed_type_columns] = df_test_cleaned[mixed_type_columns].astype(str)\n",
    "\n",
    "\n",
    "label_encoder = LabelEncoder()\n",
    "df_test_cleaned[mixed_type_columns] = df_test_cleaned[mixed_type_columns].apply(label_encoder.fit_transform)"
   ]
  },
  {
   "cell_type": "code",
   "execution_count": 80,
   "metadata": {},
   "outputs": [],
   "source": [
    "# now lets scale the numerical features"
   ]
  },
  {
   "cell_type": "code",
   "execution_count": 81,
   "metadata": {},
   "outputs": [],
   "source": [
    "numerical_columns = df_train_cleaned.select_dtypes(include=['int', 'float']).columns.tolist()"
   ]
  },
  {
   "cell_type": "code",
   "execution_count": 82,
   "metadata": {},
   "outputs": [
    {
     "data": {
      "text/plain": [
       "['Id',\n",
       " 'MSSubClass',\n",
       " 'MSZoning',\n",
       " 'LotFrontage',\n",
       " 'LotArea',\n",
       " 'Street',\n",
       " 'LotShape',\n",
       " 'LandContour',\n",
       " 'Utilities',\n",
       " 'LotConfig',\n",
       " 'LandSlope',\n",
       " 'Neighborhood',\n",
       " 'Condition1',\n",
       " 'Condition2',\n",
       " 'BldgType',\n",
       " 'HouseStyle',\n",
       " 'OverallQual',\n",
       " 'OverallCond',\n",
       " 'YearBuilt',\n",
       " 'YearRemodAdd',\n",
       " 'RoofStyle',\n",
       " 'RoofMatl',\n",
       " 'Exterior1st',\n",
       " 'Exterior2nd',\n",
       " 'MasVnrType',\n",
       " 'MasVnrArea',\n",
       " 'ExterQual',\n",
       " 'ExterCond',\n",
       " 'Foundation',\n",
       " 'BsmtQual',\n",
       " 'BsmtCond',\n",
       " 'BsmtExposure',\n",
       " 'BsmtFinType1',\n",
       " 'BsmtFinSF1',\n",
       " 'BsmtFinType2',\n",
       " 'BsmtFinSF2',\n",
       " 'BsmtUnfSF',\n",
       " 'TotalBsmtSF',\n",
       " 'Heating',\n",
       " 'HeatingQC',\n",
       " 'CentralAir',\n",
       " 'Electrical',\n",
       " '1stFlrSF',\n",
       " '2ndFlrSF',\n",
       " 'LowQualFinSF',\n",
       " 'GrLivArea',\n",
       " 'BsmtFullBath',\n",
       " 'BsmtHalfBath',\n",
       " 'FullBath',\n",
       " 'HalfBath',\n",
       " 'BedroomAbvGr',\n",
       " 'KitchenAbvGr',\n",
       " 'KitchenQual',\n",
       " 'TotRmsAbvGrd',\n",
       " 'Functional',\n",
       " 'Fireplaces',\n",
       " 'FireplaceQu',\n",
       " 'GarageType',\n",
       " 'GarageYrBlt',\n",
       " 'GarageFinish',\n",
       " 'GarageCars',\n",
       " 'GarageArea',\n",
       " 'GarageQual',\n",
       " 'GarageCond',\n",
       " 'PavedDrive',\n",
       " 'WoodDeckSF',\n",
       " 'OpenPorchSF',\n",
       " 'EnclosedPorch',\n",
       " '3SsnPorch',\n",
       " 'ScreenPorch',\n",
       " 'PoolArea',\n",
       " 'MiscFeature',\n",
       " 'MiscVal',\n",
       " 'MoSold',\n",
       " 'YrSold',\n",
       " 'SaleType',\n",
       " 'SaleCondition',\n",
       " 'SalePrice']"
      ]
     },
     "execution_count": 82,
     "metadata": {},
     "output_type": "execute_result"
    }
   ],
   "source": [
    "numerical_columns"
   ]
  },
  {
   "cell_type": "code",
   "execution_count": 83,
   "metadata": {},
   "outputs": [
    {
     "name": "stderr",
     "output_type": "stream",
     "text": [
      "C:\\Users\\Jash\\AppData\\Local\\Temp\\ipykernel_22392\\132589587.py:7: SettingWithCopyWarning: \n",
      "A value is trying to be set on a copy of a slice from a DataFrame.\n",
      "Try using .loc[row_indexer,col_indexer] = value instead\n",
      "\n",
      "See the caveats in the documentation: https://pandas.pydata.org/pandas-docs/stable/user_guide/indexing.html#returning-a-view-versus-a-copy\n",
      "  df_train_cleaned[numerical_features] = scaler.fit_transform(df_train_cleaned[numerical_features])\n",
      "C:\\Users\\Jash\\AppData\\Local\\Temp\\ipykernel_22392\\132589587.py:8: SettingWithCopyWarning: \n",
      "A value is trying to be set on a copy of a slice from a DataFrame.\n",
      "Try using .loc[row_indexer,col_indexer] = value instead\n",
      "\n",
      "See the caveats in the documentation: https://pandas.pydata.org/pandas-docs/stable/user_guide/indexing.html#returning-a-view-versus-a-copy\n",
      "  df_test_cleaned[numerical_features] = scaler.fit_transform(df_test_cleaned[numerical_features])\n"
     ]
    }
   ],
   "source": [
    "# now lets scale the numerical featues\n",
    "from sklearn.preprocessing import MinMaxScaler\n",
    "scaler = MinMaxScaler()\n",
    "\n",
    "numerical_features = ['Id','MSSubClass','LotFrontage','LotArea','OverallQual','OverallCond','YearBuilt','YearRemodAdd','BsmtFinSF1','BsmtFinSF2','BsmtUnfSF','TotalBsmtSF','1stFlrSF','2ndFlrSF','LowQualFinSF','GrLivArea','BsmtFullBath','BsmtHalfBath','FullBath','HalfBath','BedroomAbvGr','KitchenAbvGr','TotRmsAbvGrd','Fireplaces','GarageYrBlt','GarageCars','GarageArea','WoodDeckSF','OpenPorchSF','EnclosedPorch','3SsnPorch','ScreenPorch','PoolArea','MiscVal','MoSold','YrSold']\n",
    "\n",
    "df_train_cleaned[numerical_features] = scaler.fit_transform(df_train_cleaned[numerical_features])\n",
    "df_test_cleaned[numerical_features] = scaler.fit_transform(df_test_cleaned[numerical_features])"
   ]
  },
  {
   "cell_type": "code",
   "execution_count": null,
   "metadata": {},
   "outputs": [],
   "source": []
  },
  {
   "cell_type": "code",
   "execution_count": null,
   "metadata": {},
   "outputs": [],
   "source": []
  },
  {
   "cell_type": "code",
   "execution_count": null,
   "metadata": {},
   "outputs": [],
   "source": []
  },
  {
   "cell_type": "code",
   "execution_count": null,
   "metadata": {},
   "outputs": [],
   "source": []
  },
  {
   "cell_type": "code",
   "execution_count": 84,
   "metadata": {},
   "outputs": [],
   "source": [
    "X = df_train_cleaned.drop('SalePrice',axis=1)\n",
    "y = df_train_cleaned['SalePrice']\n",
    "x_test = df_test_cleaned"
   ]
  },
  {
   "cell_type": "code",
   "execution_count": 85,
   "metadata": {},
   "outputs": [
    {
     "data": {
      "text/html": [
       "<style>#sk-container-id-1 {color: black;}#sk-container-id-1 pre{padding: 0;}#sk-container-id-1 div.sk-toggleable {background-color: white;}#sk-container-id-1 label.sk-toggleable__label {cursor: pointer;display: block;width: 100%;margin-bottom: 0;padding: 0.3em;box-sizing: border-box;text-align: center;}#sk-container-id-1 label.sk-toggleable__label-arrow:before {content: \"▸\";float: left;margin-right: 0.25em;color: #696969;}#sk-container-id-1 label.sk-toggleable__label-arrow:hover:before {color: black;}#sk-container-id-1 div.sk-estimator:hover label.sk-toggleable__label-arrow:before {color: black;}#sk-container-id-1 div.sk-toggleable__content {max-height: 0;max-width: 0;overflow: hidden;text-align: left;background-color: #f0f8ff;}#sk-container-id-1 div.sk-toggleable__content pre {margin: 0.2em;color: black;border-radius: 0.25em;background-color: #f0f8ff;}#sk-container-id-1 input.sk-toggleable__control:checked~div.sk-toggleable__content {max-height: 200px;max-width: 100%;overflow: auto;}#sk-container-id-1 input.sk-toggleable__control:checked~label.sk-toggleable__label-arrow:before {content: \"▾\";}#sk-container-id-1 div.sk-estimator input.sk-toggleable__control:checked~label.sk-toggleable__label {background-color: #d4ebff;}#sk-container-id-1 div.sk-label input.sk-toggleable__control:checked~label.sk-toggleable__label {background-color: #d4ebff;}#sk-container-id-1 input.sk-hidden--visually {border: 0;clip: rect(1px 1px 1px 1px);clip: rect(1px, 1px, 1px, 1px);height: 1px;margin: -1px;overflow: hidden;padding: 0;position: absolute;width: 1px;}#sk-container-id-1 div.sk-estimator {font-family: monospace;background-color: #f0f8ff;border: 1px dotted black;border-radius: 0.25em;box-sizing: border-box;margin-bottom: 0.5em;}#sk-container-id-1 div.sk-estimator:hover {background-color: #d4ebff;}#sk-container-id-1 div.sk-parallel-item::after {content: \"\";width: 100%;border-bottom: 1px solid gray;flex-grow: 1;}#sk-container-id-1 div.sk-label:hover label.sk-toggleable__label {background-color: #d4ebff;}#sk-container-id-1 div.sk-serial::before {content: \"\";position: absolute;border-left: 1px solid gray;box-sizing: border-box;top: 0;bottom: 0;left: 50%;z-index: 0;}#sk-container-id-1 div.sk-serial {display: flex;flex-direction: column;align-items: center;background-color: white;padding-right: 0.2em;padding-left: 0.2em;position: relative;}#sk-container-id-1 div.sk-item {position: relative;z-index: 1;}#sk-container-id-1 div.sk-parallel {display: flex;align-items: stretch;justify-content: center;background-color: white;position: relative;}#sk-container-id-1 div.sk-item::before, #sk-container-id-1 div.sk-parallel-item::before {content: \"\";position: absolute;border-left: 1px solid gray;box-sizing: border-box;top: 0;bottom: 0;left: 50%;z-index: -1;}#sk-container-id-1 div.sk-parallel-item {display: flex;flex-direction: column;z-index: 1;position: relative;background-color: white;}#sk-container-id-1 div.sk-parallel-item:first-child::after {align-self: flex-end;width: 50%;}#sk-container-id-1 div.sk-parallel-item:last-child::after {align-self: flex-start;width: 50%;}#sk-container-id-1 div.sk-parallel-item:only-child::after {width: 0;}#sk-container-id-1 div.sk-dashed-wrapped {border: 1px dashed gray;margin: 0 0.4em 0.5em 0.4em;box-sizing: border-box;padding-bottom: 0.4em;background-color: white;}#sk-container-id-1 div.sk-label label {font-family: monospace;font-weight: bold;display: inline-block;line-height: 1.2em;}#sk-container-id-1 div.sk-label-container {text-align: center;}#sk-container-id-1 div.sk-container {/* jupyter's `normalize.less` sets `[hidden] { display: none; }` but bootstrap.min.css set `[hidden] { display: none !important; }` so we also need the `!important` here to be able to override the default hidden behavior on the sphinx rendered scikit-learn.org. See: https://github.com/scikit-learn/scikit-learn/issues/21755 */display: inline-block !important;position: relative;}#sk-container-id-1 div.sk-text-repr-fallback {display: none;}</style><div id=\"sk-container-id-1\" class=\"sk-top-container\"><div class=\"sk-text-repr-fallback\"><pre>DecisionTreeRegressor()</pre><b>In a Jupyter environment, please rerun this cell to show the HTML representation or trust the notebook. <br />On GitHub, the HTML representation is unable to render, please try loading this page with nbviewer.org.</b></div><div class=\"sk-container\" hidden><div class=\"sk-item\"><div class=\"sk-estimator sk-toggleable\"><input class=\"sk-toggleable__control sk-hidden--visually\" id=\"sk-estimator-id-1\" type=\"checkbox\" checked><label for=\"sk-estimator-id-1\" class=\"sk-toggleable__label sk-toggleable__label-arrow\">DecisionTreeRegressor</label><div class=\"sk-toggleable__content\"><pre>DecisionTreeRegressor()</pre></div></div></div></div></div>"
      ],
      "text/plain": [
       "DecisionTreeRegressor()"
      ]
     },
     "execution_count": 85,
     "metadata": {},
     "output_type": "execute_result"
    }
   ],
   "source": [
    "#now lets build model with decisiontree\n",
    "from sklearn.tree import DecisionTreeRegressor\n",
    "\n",
    "dt_regressor = DecisionTreeRegressor()\n",
    "dt_regressor.fit(X, y)"
   ]
  },
  {
   "cell_type": "code",
   "execution_count": 86,
   "metadata": {},
   "outputs": [
    {
     "data": {
      "text/plain": [
       "array([1.78926753e-03, 6.28395846e-04, 1.29529600e-03, 1.04696804e-02,\n",
       "       5.85132754e-03, 0.00000000e+00, 2.66484918e-04, 9.40332097e-04,\n",
       "       0.00000000e+00, 2.72118521e-05, 6.75915157e-06, 1.45835712e-02,\n",
       "       5.83467666e-05, 0.00000000e+00, 1.27987136e-04, 1.75259877e-04,\n",
       "       6.36938934e-01, 3.59125213e-03, 4.63181795e-03, 3.47973455e-03,\n",
       "       4.00232617e-04, 7.58657357e-04, 2.45551806e-03, 1.19577124e-03,\n",
       "       5.66529394e-03, 1.52412082e-03, 2.65054632e-03, 3.18914497e-04,\n",
       "       4.71982080e-05, 6.66907691e-04, 1.19275131e-05, 2.83417027e-03,\n",
       "       5.39352490e-04, 2.15745100e-02, 1.06137168e-05, 2.75817920e-04,\n",
       "       7.20076971e-03, 3.32756176e-02, 0.00000000e+00, 2.14749354e-04,\n",
       "       6.43434669e-03, 2.12661872e-05, 2.37092969e-02, 3.81648541e-02,\n",
       "       1.22179937e-07, 1.00425809e-01, 8.48232630e-04, 3.73823344e-04,\n",
       "       2.34155116e-03, 9.92943280e-04, 6.53888739e-05, 5.81684730e-03,\n",
       "       1.18186737e-03, 1.72410159e-03, 6.78318454e-04, 3.64080632e-04,\n",
       "       6.99057757e-04, 4.63698316e-03, 2.96047086e-03, 2.92990393e-03,\n",
       "       1.28313708e-02, 1.04400796e-02, 1.26911242e-04, 1.09591809e-05,\n",
       "       3.97356771e-04, 2.97945984e-03, 2.02851322e-03, 6.41402582e-04,\n",
       "       3.01618463e-04, 1.30416674e-03, 0.00000000e+00, 2.83153904e-08,\n",
       "       1.12135647e-05, 2.55503504e-03, 9.16405772e-04, 3.61822956e-04,\n",
       "       4.24204249e-03])"
      ]
     },
     "execution_count": 86,
     "metadata": {},
     "output_type": "execute_result"
    }
   ],
   "source": [
    "# Find the important features using feature_importances_\n",
    "Important_features_tree = dt_regressor.feature_importances_\n",
    "Important_features_tree"
   ]
  },
  {
   "cell_type": "code",
   "execution_count": 87,
   "metadata": {},
   "outputs": [],
   "source": [
    "# Attach the columns of X to the feature importance labels\n",
    "columns = X.columns\n",
    "# Converting into a dataframe\n",
    "feature_importance_tree = pd.DataFrame(Important_features_tree)\n",
    "# Attach columns to it\n",
    "feature_importance_tree['columns'] = columns.T"
   ]
  },
  {
   "cell_type": "code",
   "execution_count": 88,
   "metadata": {},
   "outputs": [
    {
     "data": {
      "image/png": "[encoded data removed]",
      "text/plain": [
       "<Figure size 640x480 with 1 Axes>"
      ]
     },
     "metadata": {},
     "output_type": "display_data"
    }
   ],
   "source": [
    "# Lets plot a barplot to visualize the important features\n",
    "sns.set_style('whitegrid')\n",
    "# Bar plot\n",
    "sns.barplot(data=feature_importance_tree,x='columns',y=feature_importance_tree[0])\n",
    "# rotate the labels\n",
    "plt.xticks(rotation=90)\n",
    "plt.show()"
   ]
  },
  {
   "cell_type": "code",
   "execution_count": null,
   "metadata": {},
   "outputs": [],
   "source": []
  },
  {
   "cell_type": "code",
   "execution_count": null,
   "metadata": {},
   "outputs": [],
   "source": []
  },
  {
   "cell_type": "code",
   "execution_count": null,
   "metadata": {},
   "outputs": [],
   "source": []
  },
  {
   "cell_type": "code",
   "execution_count": null,
   "metadata": {},
   "outputs": [],
   "source": []
  },
  {
   "cell_type": "code",
   "execution_count": null,
   "metadata": {},
   "outputs": [],
   "source": []
  },
  {
   "cell_type": "code",
   "execution_count": null,
   "metadata": {},
   "outputs": [],
   "source": []
  },
  {
   "cell_type": "code",
   "execution_count": 89,
   "metadata": {},
   "outputs": [
    {
     "data": {
      "text/plain": [
       "array([4.44018016e-03, 1.56790223e-03, 1.93362709e-03, 5.45691187e-03,\n",
       "       1.50391212e-02, 6.60203888e-06, 1.28769592e-03, 2.00031055e-03,\n",
       "       9.77114363e-07, 8.57056289e-04, 6.66183106e-04, 6.27317280e-03,\n",
       "       5.24378835e-04, 5.08697679e-04, 1.58101703e-04, 6.32678982e-04,\n",
       "       5.74538643e-01, 4.31158315e-03, 9.78701093e-03, 5.66599178e-03,\n",
       "       5.29280934e-04, 6.53880334e-04, 1.85184578e-03, 1.42179913e-03,\n",
       "       1.27486915e-03, 3.27564557e-03, 5.42150000e-03, 4.74146387e-04,\n",
       "       5.00052767e-04, 5.42869390e-03, 2.60100961e-04, 1.97841495e-03,\n",
       "       1.37411150e-03, 2.91610361e-02, 3.77703528e-04, 4.86316876e-04,\n",
       "       4.65354890e-03, 3.53184789e-02, 6.52107508e-05, 6.97237154e-04,\n",
       "       3.44753645e-03, 1.61914178e-04, 2.03022381e-02, 3.97478083e-02,\n",
       "       1.28340120e-04, 1.10065323e-01, 9.12537297e-04, 1.04543899e-03,\n",
       "       5.39406296e-03, 9.70243959e-04, 2.33823248e-03, 8.40645183e-04,\n",
       "       2.96067181e-03, 6.14444240e-03, 4.18761432e-04, 2.31561445e-03,\n",
       "       2.02770342e-03, 3.27116110e-03, 3.94951464e-03, 5.70404221e-03,\n",
       "       2.14761161e-02, 1.58829786e-02, 1.34524333e-04, 1.13730253e-04,\n",
       "       4.19788630e-04, 4.93547913e-03, 4.49586689e-03, 6.75264958e-04,\n",
       "       3.36571791e-04, 1.53083505e-03, 1.97776346e-04, 2.12937731e-05,\n",
       "       3.06725838e-05, 3.13101852e-03, 1.25293302e-03, 9.05193152e-04,\n",
       "       1.45302478e-03])"
      ]
     },
     "execution_count": 89,
     "metadata": {},
     "output_type": "execute_result"
    }
   ],
   "source": [
    "#now building model with random forest regression\n",
    "from sklearn.ensemble import RandomForestRegressor\n",
    "rf = RandomForestRegressor()\n",
    "# fit the model\n",
    "rf.fit(X,y)\n",
    "# Find the important features using feature_importances_\n",
    "Important_features_rf = rf.feature_importances_\n",
    "Important_features_rf"
   ]
  },
  {
   "cell_type": "code",
   "execution_count": 90,
   "metadata": {},
   "outputs": [],
   "source": [
    "columns = X.columns\n",
    "\n",
    "feature_importance_rf = pd.DataFrame(Important_features_rf)\n",
    "\n",
    "feature_importance_rf['columns'] = columns.T"
   ]
  },
  {
   "cell_type": "code",
   "execution_count": 91,
   "metadata": {},
   "outputs": [
    {
     "data": {
      "image/png": "[encoded data removed]",
      "text/plain": [
       "<Figure size 640x480 with 1 Axes>"
      ]
     },
     "metadata": {},
     "output_type": "display_data"
    }
   ],
   "source": [
    "# Lets plot a barplot to visualize the important features\n",
    "sns.set_style('whitegrid')\n",
    "\n",
    "sns.barplot(data=feature_importance_rf,x='columns',y=feature_importance_rf[0])\n",
    "\n",
    "plt.xticks(rotation=90)\n",
    "plt.show()"
   ]
  },
  {
   "cell_type": "code",
   "execution_count": 94,
   "metadata": {
    "scrolled": true
   },
   "outputs": [
    {
     "name": "stderr",
     "output_type": "stream",
     "text": [
      "D:\\e\\anaconda python\\Lib\\site-packages\\sklearn\\ensemble\\_base.py:156: FutureWarning: `base_estimator` was renamed to `estimator` in version 1.2 and will be removed in 1.4.\n",
      "  warnings.warn(\n"
     ]
    }
   ],
   "source": [
    "#now building model with ADA boost\n",
    "\n",
    "from sklearn.ensemble import AdaBoostRegressor\n",
    "\n",
    "abc1 =AdaBoostRegressor(n_estimators=300, base_estimator=dt_regressor,learning_rate=1)\n",
    "# Train Adaboost Classifer\n",
    "model1 = abc1.fit(X, y)\n",
    "#Predict the response for test dataset\n",
    "y_pred = model1.predict(df_test_cleaned)"
   ]
  },
  {
   "cell_type": "code",
   "execution_count": 100,
   "metadata": {},
   "outputs": [
    {
     "data": {
      "text/plain": [
       "array([5.52878029e-03, 1.32561264e-03, 1.43023444e-03, 1.08868951e-02,\n",
       "       1.81353210e-02, 3.31578534e-06, 1.25416773e-03, 4.99988311e-03,\n",
       "       1.99619148e-07, 1.24711498e-03, 9.16355995e-04, 1.51012886e-02,\n",
       "       6.76905453e-04, 2.32363954e-04, 1.29256415e-04, 6.66633067e-04,\n",
       "       4.06573966e-01, 3.49335346e-03, 6.41082138e-03, 9.58480995e-03,\n",
       "       8.73521646e-04, 5.01966923e-04, 2.13799514e-03, 1.46828625e-03,\n",
       "       1.57100038e-03, 3.90003926e-03, 5.64283354e-03, 3.60318190e-04,\n",
       "       2.26976887e-04, 4.19140893e-03, 2.64906689e-04, 2.14757837e-03,\n",
       "       1.26274705e-03, 3.04771088e-02, 4.70645823e-04, 5.38924473e-04,\n",
       "       6.76220079e-03, 3.15800774e-02, 4.46725931e-05, 6.17447132e-04,\n",
       "       1.11032078e-03, 7.06152730e-05, 2.25575969e-02, 1.50666931e-01,\n",
       "       4.77480708e-05, 7.29010468e-02, 6.50749802e-04, 1.50792160e-04,\n",
       "       5.79919278e-03, 5.73253874e-04, 2.96969590e-03, 2.30224888e-04,\n",
       "       8.04604798e-03, 1.74094852e-02, 4.72916759e-04, 7.21274624e-03,\n",
       "       2.15741374e-03, 8.58430163e-04, 4.62651278e-03, 2.65138086e-03,\n",
       "       8.12646703e-02, 9.44969132e-03, 7.42451336e-05, 2.87775756e-05,\n",
       "       3.05059407e-04, 6.04644507e-03, 5.21028476e-03, 6.20246233e-04,\n",
       "       3.02614492e-04, 2.99654258e-03, 2.62722450e-04, 1.43279490e-05,\n",
       "       2.68134247e-05, 4.25011657e-03, 1.45342520e-03, 9.27074661e-04,\n",
       "       1.96590534e-03])"
      ]
     },
     "execution_count": 100,
     "metadata": {},
     "output_type": "execute_result"
    }
   ],
   "source": [
    "abc1.feature_importances_"
   ]
  },
  {
   "cell_type": "code",
   "execution_count": 99,
   "metadata": {},
   "outputs": [
    {
     "data": {
      "image/png": "[encoded data removed]",
      "text/plain": [
       "<Figure size 1000x600 with 1 Axes>"
      ]
     },
     "metadata": {},
     "output_type": "display_data"
    }
   ],
   "source": [
    "# Plot feature importances\n",
    "\n",
    "feature_importances = abc1.feature_importances_\n",
    "\n",
    "# Plot feature importances\n",
    "sorted_indices = np.argsort(feature_importances)[::-1]\n",
    "plt.figure(figsize=(10, 6))\n",
    "plt.bar(range(X.shape[1]), feature_importances[sorted_indices], align=\"center\")\n",
    "plt.xticks(range(X.shape[1]), sorted_indices)\n",
    "plt.xlabel(\"Feature Index\")\n",
    "plt.ylabel(\"Feature Importance\")\n",
    "plt.title(\"Feature Importances in AdaBoostRegressor\")\n",
    "plt.show()"
   ]
  },
  {
   "cell_type": "code",
   "execution_count": 103,
   "metadata": {},
   "outputs": [
    {
     "name": "stdout",
     "output_type": "stream",
     "text": [
      "Collecting xgboost\n",
      "  Obtaining dependency information for xgboost from https://files.pythonhosted.org/packages/24/ec/ad387100fa3cc2b9b81af0829b5ecfe75ec5bb19dd7c19d4fea06fb81802/xgboost-2.0.3-py3-none-win_amd64.whl.metadata\n",
      "  Downloading xgboost-2.0.3-py3-none-win_amd64.whl.metadata (2.0 kB)\n",
      "Requirement already satisfied: numpy in d:\\e\\anaconda python\\lib\\site-packages (from xgboost) (1.24.3)\n",
      "Requirement already satisfied: scipy in d:\\e\\anaconda python\\lib\\site-packages (from xgboost) (1.10.1)\n",
      "Downloading xgboost-2.0.3-py3-none-win_amd64.whl (99.8 MB)\n",
      "   ---------------------------------------- 0.0/99.8 MB ? eta -:--:--\n",
      "   ---------------------------------------- 0.2/99.8 MB 4.1 MB/s eta 0:00:25\n",
      "   ---------------------------------------- 0.8/99.8 MB 8.0 MB/s eta 0:00:13\n",
      "    --------------------------------------- 1.6/99.8 MB 12.9 MB/s eta 0:00:08\n",
      "   - -------------------------------------- 2.7/99.8 MB 15.6 MB/s eta 0:00:07\n",
      "   - -------------------------------------- 3.6/99.8 MB 16.3 MB/s eta 0:00:06\n",
      "   - -------------------------------------- 4.5/99.8 MB 16.9 MB/s eta 0:00:06\n",
      "   -- ------------------------------------- 5.4/99.8 MB 18.3 MB/s eta 0:00:06\n",
      "   -- ------------------------------------- 6.5/99.8 MB 18.8 MB/s eta 0:00:05\n",
      "   -- ------------------------------------- 7.4/99.8 MB 18.8 MB/s eta 0:00:05\n",
      "   --- ------------------------------------ 8.2/99.8 MB 19.5 MB/s eta 0:00:05\n",
      "   --- ------------------------------------ 9.1/99.8 MB 19.5 MB/s eta 0:00:05\n",
      "   ---- ----------------------------------- 10.0/99.8 MB 19.4 MB/s eta 0:00:05\n",
      "   ---- ----------------------------------- 11.1/99.8 MB 21.8 MB/s eta 0:00:05\n",
      "   ---- ----------------------------------- 12.0/99.8 MB 21.8 MB/s eta 0:00:05\n",
      "   ----- ---------------------------------- 12.9/99.8 MB 21.8 MB/s eta 0:00:04\n",
      "   ----- ---------------------------------- 13.8/99.8 MB 21.8 MB/s eta 0:00:04\n",
      "   ----- ---------------------------------- 14.6/99.8 MB 21.1 MB/s eta 0:00:05\n",
      "   ------ --------------------------------- 15.5/99.8 MB 21.8 MB/s eta 0:00:04\n",
      "   ------ --------------------------------- 16.5/99.8 MB 21.8 MB/s eta 0:00:04\n",
      "   ------ --------------------------------- 17.4/99.8 MB 21.8 MB/s eta 0:00:04\n",
      "   ------- -------------------------------- 18.3/99.8 MB 21.8 MB/s eta 0:00:04\n",
      "   ------- -------------------------------- 19.1/99.8 MB 21.1 MB/s eta 0:00:04\n",
      "   -------- ------------------------------- 20.1/99.8 MB 21.1 MB/s eta 0:00:04\n",
      "   -------- ------------------------------- 20.8/99.8 MB 21.1 MB/s eta 0:00:04\n",
      "   -------- ------------------------------- 21.6/99.8 MB 21.1 MB/s eta 0:00:04\n",
      "   -------- ------------------------------- 22.4/99.8 MB 20.5 MB/s eta 0:00:04\n",
      "   --------- ------------------------------ 23.2/99.8 MB 20.5 MB/s eta 0:00:04\n",
      "   --------- ------------------------------ 24.0/99.8 MB 20.5 MB/s eta 0:00:04\n",
      "   --------- ------------------------------ 24.1/99.8 MB 20.5 MB/s eta 0:00:04\n",
      "   --------- ------------------------------ 24.1/99.8 MB 20.5 MB/s eta 0:00:04\n",
      "   ---------- ----------------------------- 26.2/99.8 MB 19.3 MB/s eta 0:00:04\n",
      "   ---------- ----------------------------- 27.0/99.8 MB 18.7 MB/s eta 0:00:04\n",
      "   ----------- ---------------------------- 27.7/99.8 MB 18.7 MB/s eta 0:00:04\n",
      "   ----------- ---------------------------- 28.7/99.8 MB 18.7 MB/s eta 0:00:04\n",
      "   ----------- ---------------------------- 29.6/99.8 MB 19.2 MB/s eta 0:00:04\n",
      "   ------------ --------------------------- 30.5/99.8 MB 19.2 MB/s eta 0:00:04\n",
      "   ------------ --------------------------- 31.4/99.8 MB 19.3 MB/s eta 0:00:04\n",
      "   ------------ --------------------------- 32.2/99.8 MB 19.8 MB/s eta 0:00:04\n",
      "   ------------- -------------------------- 32.8/99.8 MB 19.8 MB/s eta 0:00:04\n",
      "   ------------- -------------------------- 33.8/99.8 MB 19.3 MB/s eta 0:00:04\n",
      "   ------------- -------------------------- 34.6/99.8 MB 23.4 MB/s eta 0:00:03\n",
      "   -------------- ------------------------- 35.4/99.8 MB 21.8 MB/s eta 0:00:03\n",
      "   -------------- ------------------------- 36.2/99.8 MB 20.5 MB/s eta 0:00:04\n",
      "   -------------- ------------------------- 37.0/99.8 MB 20.5 MB/s eta 0:00:04\n",
      "   --------------- ------------------------ 37.8/99.8 MB 20.5 MB/s eta 0:00:04\n",
      "   --------------- ------------------------ 38.6/99.8 MB 20.5 MB/s eta 0:00:03\n",
      "   --------------- ------------------------ 39.5/99.8 MB 19.8 MB/s eta 0:00:04\n",
      "   ---------------- ----------------------- 40.3/99.8 MB 19.8 MB/s eta 0:00:03\n",
      "   ---------------- ----------------------- 41.3/99.8 MB 19.9 MB/s eta 0:00:03\n",
      "   ---------------- ----------------------- 42.0/99.8 MB 19.3 MB/s eta 0:00:03\n",
      "   ----------------- ---------------------- 43.0/99.8 MB 19.3 MB/s eta 0:00:03\n",
      "   ----------------- ---------------------- 43.7/99.8 MB 19.9 MB/s eta 0:00:03\n",
      "   ----------------- ---------------------- 44.7/99.8 MB 19.9 MB/s eta 0:00:03\n",
      "   ------------------ --------------------- 45.5/99.8 MB 19.3 MB/s eta 0:00:03\n",
      "   ------------------ --------------------- 46.2/99.8 MB 19.3 MB/s eta 0:00:03\n",
      "   ------------------ --------------------- 47.1/99.8 MB 19.9 MB/s eta 0:00:03\n",
      "   ------------------- -------------------- 48.0/99.8 MB 19.9 MB/s eta 0:00:03\n",
      "   ------------------- -------------------- 48.8/99.8 MB 19.3 MB/s eta 0:00:03\n",
      "   ------------------- -------------------- 49.6/99.8 MB 19.9 MB/s eta 0:00:03\n",
      "   -------------------- ------------------- 50.0/99.8 MB 18.7 MB/s eta 0:00:03\n",
      "   -------------------- ------------------- 51.1/99.8 MB 19.3 MB/s eta 0:00:03\n",
      "   -------------------- ------------------- 51.7/99.8 MB 18.7 MB/s eta 0:00:03\n",
      "   --------------------- ------------------ 52.6/99.8 MB 18.7 MB/s eta 0:00:03\n",
      "   --------------------- ------------------ 53.5/99.8 MB 18.7 MB/s eta 0:00:03\n",
      "   --------------------- ------------------ 54.4/99.8 MB 18.7 MB/s eta 0:00:03\n",
      "   ---------------------- ----------------- 55.2/99.8 MB 18.7 MB/s eta 0:00:03\n",
      "   ---------------------- ----------------- 56.0/99.8 MB 18.2 MB/s eta 0:00:03\n",
      "   ---------------------- ----------------- 56.9/99.8 MB 18.7 MB/s eta 0:00:03\n",
      "   ----------------------- ---------------- 57.8/99.8 MB 18.2 MB/s eta 0:00:03\n",
      "   ----------------------- ---------------- 58.8/99.8 MB 18.7 MB/s eta 0:00:03\n",
      "   ----------------------- ---------------- 59.8/99.8 MB 18.7 MB/s eta 0:00:03\n",
      "   ------------------------ --------------- 60.8/99.8 MB 19.8 MB/s eta 0:00:02\n",
      "   ------------------------ --------------- 61.7/99.8 MB 20.5 MB/s eta 0:00:02\n",
      "   ------------------------- -------------- 62.4/99.8 MB 19.9 MB/s eta 0:00:02\n",
      "   ------------------------- -------------- 63.3/99.8 MB 20.5 MB/s eta 0:00:02\n",
      "   ------------------------- -------------- 64.0/99.8 MB 20.5 MB/s eta 0:00:02\n",
      "   ------------------------- -------------- 64.7/99.8 MB 20.5 MB/s eta 0:00:02\n",
      "   -------------------------- ------------- 65.8/99.8 MB 20.5 MB/s eta 0:00:02\n",
      "   -------------------------- ------------- 66.7/99.8 MB 20.5 MB/s eta 0:00:02\n",
      "   --------------------------- ------------ 67.4/99.8 MB 20.5 MB/s eta 0:00:02\n",
      "   --------------------------- ------------ 68.2/99.8 MB 20.5 MB/s eta 0:00:02\n",
      "   --------------------------- ------------ 69.2/99.8 MB 19.8 MB/s eta 0:00:02\n",
      "   ---------------------------- ----------- 70.3/99.8 MB 19.9 MB/s eta 0:00:02\n",
      "   ---------------------------- ----------- 71.0/99.8 MB 19.2 MB/s eta 0:00:02\n",
      "   ---------------------------- ----------- 71.7/99.8 MB 18.7 MB/s eta 0:00:02\n",
      "   ----------------------------- ---------- 72.7/99.8 MB 19.3 MB/s eta 0:00:02\n",
      "   ----------------------------- ---------- 73.3/99.8 MB 19.2 MB/s eta 0:00:02\n",
      "   ----------------------------- ---------- 74.3/99.8 MB 19.2 MB/s eta 0:00:02\n",
      "   ------------------------------ --------- 75.2/99.8 MB 19.3 MB/s eta 0:00:02\n",
      "   ------------------------------ --------- 75.9/99.8 MB 19.8 MB/s eta 0:00:02\n",
      "   ------------------------------ --------- 76.8/99.8 MB 19.3 MB/s eta 0:00:02\n",
      "   ------------------------------- -------- 77.7/99.8 MB 19.9 MB/s eta 0:00:02\n",
      "   ------------------------------- -------- 78.5/99.8 MB 19.3 MB/s eta 0:00:02\n",
      "   ------------------------------- -------- 79.3/99.8 MB 19.8 MB/s eta 0:00:02\n",
      "   -------------------------------- ------- 80.1/99.8 MB 19.9 MB/s eta 0:00:01\n",
      "   -------------------------------- ------- 80.8/99.8 MB 19.3 MB/s eta 0:00:01\n",
      "   -------------------------------- ------- 81.6/99.8 MB 19.2 MB/s eta 0:00:01\n",
      "   --------------------------------- ------ 82.4/99.8 MB 19.3 MB/s eta 0:00:01\n",
      "   --------------------------------- ------ 83.3/99.8 MB 19.3 MB/s eta 0:00:01\n",
      "   --------------------------------- ------ 84.1/99.8 MB 19.2 MB/s eta 0:00:01\n",
      "   ---------------------------------- ----- 85.0/99.8 MB 19.9 MB/s eta 0:00:01\n",
      "   ---------------------------------- ----- 85.8/99.8 MB 19.3 MB/s eta 0:00:01\n",
      "   ---------------------------------- ----- 86.6/99.8 MB 19.3 MB/s eta 0:00:01\n",
      "   ----------------------------------- ---- 87.7/99.8 MB 19.3 MB/s eta 0:00:01\n",
      "   ----------------------------------- ---- 88.5/99.8 MB 19.3 MB/s eta 0:00:01\n",
      "   ----------------------------------- ---- 89.3/99.8 MB 19.3 MB/s eta 0:00:01\n",
      "   ------------------------------------ --- 90.1/99.8 MB 19.8 MB/s eta 0:00:01\n",
      "   ------------------------------------ --- 90.9/99.8 MB 19.9 MB/s eta 0:00:01\n",
      "   ------------------------------------ --- 91.7/99.8 MB 19.9 MB/s eta 0:00:01\n",
      "   ------------------------------------- -- 92.5/99.8 MB 19.3 MB/s eta 0:00:01\n",
      "   ------------------------------------- -- 93.3/99.8 MB 19.3 MB/s eta 0:00:01\n",
      "   ------------------------------------- -- 94.3/99.8 MB 19.3 MB/s eta 0:00:01\n",
      "   -------------------------------------- - 95.0/99.8 MB 19.8 MB/s eta 0:00:01\n",
      "   -------------------------------------- - 95.9/99.8 MB 19.3 MB/s eta 0:00:01\n",
      "   -------------------------------------- - 96.7/99.8 MB 19.8 MB/s eta 0:00:01\n",
      "   ---------------------------------------  97.5/99.8 MB 19.8 MB/s eta 0:00:01\n",
      "   ---------------------------------------  98.5/99.8 MB 19.2 MB/s eta 0:00:01\n",
      "   ---------------------------------------  99.3/99.8 MB 19.8 MB/s eta 0:00:01\n",
      "   ---------------------------------------  99.7/99.8 MB 19.3 MB/s eta 0:00:01\n",
      "   ---------------------------------------  99.7/99.8 MB 19.3 MB/s eta 0:00:01\n",
      "   ---------------------------------------  99.7/99.8 MB 19.3 MB/s eta 0:00:01\n",
      "   ---------------------------------------  99.7/99.8 MB 19.3 MB/s eta 0:00:01\n",
      "   ---------------------------------------  99.7/99.8 MB 19.3 MB/s eta 0:00:01\n",
      "   ---------------------------------------  99.7/99.8 MB 19.3 MB/s eta 0:00:01\n",
      "   ---------------------------------------- 99.8/99.8 MB 10.9 MB/s eta 0:00:00\n",
      "Installing collected packages: xgboost\n",
      "Successfully installed xgboost-2.0.3\n"
     ]
    }
   ],
   "source": [
    "#now building model with Gradient Boosting with XGBoost\n",
    "!pip install xgboost"
   ]
  },
  {
   "cell_type": "code",
   "execution_count": 104,
   "metadata": {},
   "outputs": [],
   "source": [
    "import xgboost as xgb\n",
    "\n",
    "xg_reg = xgb.XGBRegressor(objective ='reg:squarederror', colsample_bytree = 0.3, learning_rate = 0.1,max_depth = 5, alpha = 10, n_estimators = 10)\n",
    "xg_reg.fit(X, y)\n",
    "\n",
    "# Make predictions on the test data\n",
    "y_pred = xg_reg.predict(df_test_cleaned)\n"
   ]
  },
  {
   "cell_type": "code",
   "execution_count": 108,
   "metadata": {},
   "outputs": [
    {
     "data": {
      "text/plain": [
       "array([0.0027838 , 0.00082626, 0.00522959, 0.00467542, 0.0091487 ,\n",
       "       0.        , 0.        , 0.01261325, 0.        , 0.00061915,\n",
       "       0.        , 0.01133238, 0.00145819, 0.        , 0.00335596,\n",
       "       0.00794977, 0.1496514 , 0.00193581, 0.04129875, 0.03975426,\n",
       "       0.00262413, 0.00035153, 0.        , 0.00194326, 0.        ,\n",
       "       0.00074682, 0.04803429, 0.        , 0.00056453, 0.00545454,\n",
       "       0.        , 0.00406179, 0.0058708 , 0.03456394, 0.01302008,\n",
       "       0.        , 0.00331475, 0.0510422 , 0.        , 0.00572883,\n",
       "       0.00904894, 0.        , 0.01204091, 0.09621955, 0.00643701,\n",
       "       0.05379357, 0.01324718, 0.        , 0.02572101, 0.        ,\n",
       "       0.00140485, 0.01289649, 0.06010785, 0.01796964, 0.        ,\n",
       "       0.01036771, 0.00501937, 0.00553888, 0.00378646, 0.02628708,\n",
       "       0.1398451 , 0.00568115, 0.        , 0.        , 0.        ,\n",
       "       0.00089992, 0.00750433, 0.        , 0.        , 0.0015305 ,\n",
       "       0.        , 0.        , 0.        , 0.00400782, 0.00062425,\n",
       "       0.00496808, 0.00509823], dtype=float32)"
      ]
     },
     "execution_count": 108,
     "metadata": {},
     "output_type": "execute_result"
    }
   ],
   "source": [
    "xg_reg.feature_importances_"
   ]
  },
  {
   "cell_type": "code",
   "execution_count": null,
   "metadata": {},
   "outputs": [],
   "source": []
  }
 ],
 "metadata": {
  "kernelspec": {
   "display_name": "Python 3 (ipykernel)",
   "language": "python",
   "name": "python3"
  },
  "language_info": {
   "codemirror_mode": {
    "name": "ipython",
    "version": 3
   },
   "file_extension": ".py",
   "mimetype": "text/x-python",
   "name": "python",
   "nbconvert_exporter": "python",
   "pygments_lexer": "ipython3",
   "version": "3.11.4"
  }
 },
 "nbformat": 4,
 "nbformat_minor": 4
}
